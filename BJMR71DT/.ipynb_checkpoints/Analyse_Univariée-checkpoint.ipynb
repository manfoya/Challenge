{
 "cells": [
  {
   "cell_type": "markdown",
   "id": "a53a5893",
   "metadata": {},
   "source": [
    "# Phase 4 : Analyse, Visualisation et Modélisation\n",
    "\n",
    "Bienvenue dans ce second notebook dédié à l'analyse approfondie de nos données sur la prévention des MST dans le Borgou.\n",
    "\n",
    "**Objectif :**\n",
    "1.  Explorer chaque variable en détail (nettoyage, recodage).\n",
    "2.  Analyser les relations entre le niveau d'instruction et les comportements de prévention.\n",
    "3.  Construire un modèle statistique pour identifier les facteurs les plus influents.\n",
    "\n",
    "---"
   ]
  },
  {
   "cell_type": "markdown",
   "id": "b159df21",
   "metadata": {},
   "source": [
    "## 4.1. Préparation de l'Environnement\n",
    "\n",
    "Nous commençons par importer les bibliothèques et charger notre jeu de données nettoyé."
   ]
  },
  {
   "cell_type": "code",
   "execution_count": 9,
   "id": "423954a3",
   "metadata": {},
   "outputs": [
    {
     "name": "stdout",
     "output_type": "stream",
     "text": [
      "Bibliothèques importées.\n"
     ]
    }
   ],
   "source": [
    "import pandas as pd\n",
    "import matplotlib.pyplot as plt\n",
    "import seaborn as sns\n",
    "import numpy as np\n",
    "\n",
    "# Configuration pour un meilleur affichage\n",
    "sns.set_style(\"whitegrid\")\n",
    "plt.rcParams['figure.figsize'] = (12, 7)\n",
    "\n",
    "print(\"Bibliothèques importées.\")"
   ]
  },
  {
   "cell_type": "code",
   "execution_count": 10,
   "id": "80872895",
   "metadata": {},
   "outputs": [
    {
     "name": "stdout",
     "output_type": "stream",
     "text": [
      "Le fichier 'df_analyse_borgou.csv' a été chargé avec succès.\n",
      "Dimensions : 880 lignes et 19 colonnes.\n"
     ]
    }
   ],
   "source": [
    "# Charger le jeu de données\n",
    "file_path = 'df_analyse_borgou.csv'\n",
    "\n",
    "try:\n",
    "    df = pd.read_csv(file_path)\n",
    "    print(f\"Le fichier '{file_path}' a été chargé avec succès.\")\n",
    "    print(f\"Dimensions : {df.shape[0]} lignes et {df.shape[1]} colonnes.\")\n",
    "except FileNotFoundError:\n",
    "    print(f\"Erreur : Le fichier '{file_path}' n'a pas été trouvé.\")"
   ]
  },
  {
   "cell_type": "markdown",
   "id": "b341e0bf",
   "metadata": {},
   "source": [
    "## 4.2. Inspection Initiale du DataFrame\n",
    "\n",
    "Vérifions que les données ont été correctement chargées."
   ]
  },
  {
   "cell_type": "code",
   "execution_count": 11,
   "id": "ee5e6537",
   "metadata": {},
   "outputs": [
    {
     "name": "stdout",
     "output_type": "stream",
     "text": [
      "Informations sur le DataFrame :\n",
      "<class 'pandas.core.frame.DataFrame'>\n",
      "RangeIndex: 880 entries, 0 to 879\n",
      "Data columns (total 19 columns):\n",
      " #   Column                          Non-Null Count  Dtype  \n",
      "---  ------                          --------------  -----  \n",
      " 0   region                          880 non-null    float64\n",
      " 1   usage_preservatif               638 non-null    float64\n",
      " 2   connaissance_preservatif_vih    864 non-null    float64\n",
      " 3   connaissance_transmission_sain  864 non-null    float64\n",
      " 4   a_eu_ist_12mois                 880 non-null    float64\n",
      " 5   deja_teste_vih                  880 non-null    float64\n",
      " 6   niveau_instruction              880 non-null    float64\n",
      " 7   annees_education                880 non-null    float64\n",
      " 8   alphabetisation                 823 non-null    float64\n",
      " 9   age                             880 non-null    float64\n",
      " 10  milieu_residence                880 non-null    float64\n",
      " 11  statut_marital                  880 non-null    float64\n",
      " 12  indice_richesse                 880 non-null    float64\n",
      " 13  travaille_actuellement          880 non-null    float64\n",
      " 14  frequence_radio                 880 non-null    float64\n",
      " 15  frequence_tv                    880 non-null    float64\n",
      " 16  utilise_internet                880 non-null    float64\n",
      " 17  age_premier_rapport             880 non-null    float64\n",
      " 18  nb_partenaires_12mois           880 non-null    float64\n",
      "dtypes: float64(19)\n",
      "memory usage: 130.8 KB\n",
      "\n",
      "Aperçu des données :\n"
     ]
    },
    {
     "data": {
      "application/vnd.microsoft.datawrangler.viewer.v0+json": {
       "columns": [
        {
         "name": "index",
         "rawType": "int64",
         "type": "integer"
        },
        {
         "name": "region",
         "rawType": "float64",
         "type": "float"
        },
        {
         "name": "usage_preservatif",
         "rawType": "float64",
         "type": "float"
        },
        {
         "name": "connaissance_preservatif_vih",
         "rawType": "float64",
         "type": "float"
        },
        {
         "name": "connaissance_transmission_sain",
         "rawType": "float64",
         "type": "float"
        },
        {
         "name": "a_eu_ist_12mois",
         "rawType": "float64",
         "type": "float"
        },
        {
         "name": "deja_teste_vih",
         "rawType": "float64",
         "type": "float"
        },
        {
         "name": "niveau_instruction",
         "rawType": "float64",
         "type": "float"
        },
        {
         "name": "annees_education",
         "rawType": "float64",
         "type": "float"
        },
        {
         "name": "alphabetisation",
         "rawType": "float64",
         "type": "float"
        },
        {
         "name": "age",
         "rawType": "float64",
         "type": "float"
        },
        {
         "name": "milieu_residence",
         "rawType": "float64",
         "type": "float"
        },
        {
         "name": "statut_marital",
         "rawType": "float64",
         "type": "float"
        },
        {
         "name": "indice_richesse",
         "rawType": "float64",
         "type": "float"
        },
        {
         "name": "travaille_actuellement",
         "rawType": "float64",
         "type": "float"
        },
        {
         "name": "frequence_radio",
         "rawType": "float64",
         "type": "float"
        },
        {
         "name": "frequence_tv",
         "rawType": "float64",
         "type": "float"
        },
        {
         "name": "utilise_internet",
         "rawType": "float64",
         "type": "float"
        },
        {
         "name": "age_premier_rapport",
         "rawType": "float64",
         "type": "float"
        },
        {
         "name": "nb_partenaires_12mois",
         "rawType": "float64",
         "type": "float"
        }
       ],
       "ref": "de4dc3b4-7d58-40ac-b07a-51ccd1538c44",
       "rows": [
        [
         "0",
         "4.0",
         "0.0",
         "1.0",
         "1.0",
         "0.0",
         "1.0",
         "0.0",
         "0.0",
         "3.0",
         "27.0",
         "2.0",
         "1.0",
         "2.0",
         "1.0",
         "0.0",
         "0.0",
         "0.0",
         "19.0",
         "1.0"
        ],
        [
         "1",
         "4.0",
         "0.0",
         "1.0",
         "1.0",
         "0.0",
         "0.0",
         "0.0",
         "0.0",
         "0.0",
         "20.0",
         "2.0",
         "1.0",
         "2.0",
         "1.0",
         "2.0",
         "1.0",
         "0.0",
         "19.0",
         "1.0"
        ],
        [
         "2",
         "4.0",
         "0.0",
         "1.0",
         "8.0",
         "0.0",
         "0.0",
         "0.0",
         "0.0",
         "0.0",
         "23.0",
         "2.0",
         "1.0",
         "2.0",
         "1.0",
         "2.0",
         "0.0",
         "0.0",
         "19.0",
         "3.0"
        ],
        [
         "3",
         "4.0",
         null,
         "1.0",
         "0.0",
         "0.0",
         "0.0",
         "0.0",
         "0.0",
         "0.0",
         "15.0",
         "2.0",
         "0.0",
         "1.0",
         "1.0",
         "2.0",
         "1.0",
         "0.0",
         "13.0",
         "0.0"
        ],
        [
         "4",
         "4.0",
         "0.0",
         "1.0",
         "1.0",
         "0.0",
         "0.0",
         "0.0",
         "0.0",
         "0.0",
         "40.0",
         "2.0",
         "1.0",
         "1.0",
         "1.0",
         "0.0",
         "0.0",
         "0.0",
         "19.0",
         "1.0"
        ]
       ],
       "shape": {
        "columns": 19,
        "rows": 5
       }
      },
      "text/html": [
       "<div>\n",
       "<style scoped>\n",
       "    .dataframe tbody tr th:only-of-type {\n",
       "        vertical-align: middle;\n",
       "    }\n",
       "\n",
       "    .dataframe tbody tr th {\n",
       "        vertical-align: top;\n",
       "    }\n",
       "\n",
       "    .dataframe thead th {\n",
       "        text-align: right;\n",
       "    }\n",
       "</style>\n",
       "<table border=\"1\" class=\"dataframe\">\n",
       "  <thead>\n",
       "    <tr style=\"text-align: right;\">\n",
       "      <th></th>\n",
       "      <th>region</th>\n",
       "      <th>usage_preservatif</th>\n",
       "      <th>connaissance_preservatif_vih</th>\n",
       "      <th>connaissance_transmission_sain</th>\n",
       "      <th>a_eu_ist_12mois</th>\n",
       "      <th>deja_teste_vih</th>\n",
       "      <th>niveau_instruction</th>\n",
       "      <th>annees_education</th>\n",
       "      <th>alphabetisation</th>\n",
       "      <th>age</th>\n",
       "      <th>milieu_residence</th>\n",
       "      <th>statut_marital</th>\n",
       "      <th>indice_richesse</th>\n",
       "      <th>travaille_actuellement</th>\n",
       "      <th>frequence_radio</th>\n",
       "      <th>frequence_tv</th>\n",
       "      <th>utilise_internet</th>\n",
       "      <th>age_premier_rapport</th>\n",
       "      <th>nb_partenaires_12mois</th>\n",
       "    </tr>\n",
       "  </thead>\n",
       "  <tbody>\n",
       "    <tr>\n",
       "      <th>0</th>\n",
       "      <td>4.0</td>\n",
       "      <td>0.0</td>\n",
       "      <td>1.0</td>\n",
       "      <td>1.0</td>\n",
       "      <td>0.0</td>\n",
       "      <td>1.0</td>\n",
       "      <td>0.0</td>\n",
       "      <td>0.0</td>\n",
       "      <td>3.0</td>\n",
       "      <td>27.0</td>\n",
       "      <td>2.0</td>\n",
       "      <td>1.0</td>\n",
       "      <td>2.0</td>\n",
       "      <td>1.0</td>\n",
       "      <td>0.0</td>\n",
       "      <td>0.0</td>\n",
       "      <td>0.0</td>\n",
       "      <td>19.0</td>\n",
       "      <td>1.0</td>\n",
       "    </tr>\n",
       "    <tr>\n",
       "      <th>1</th>\n",
       "      <td>4.0</td>\n",
       "      <td>0.0</td>\n",
       "      <td>1.0</td>\n",
       "      <td>1.0</td>\n",
       "      <td>0.0</td>\n",
       "      <td>0.0</td>\n",
       "      <td>0.0</td>\n",
       "      <td>0.0</td>\n",
       "      <td>0.0</td>\n",
       "      <td>20.0</td>\n",
       "      <td>2.0</td>\n",
       "      <td>1.0</td>\n",
       "      <td>2.0</td>\n",
       "      <td>1.0</td>\n",
       "      <td>2.0</td>\n",
       "      <td>1.0</td>\n",
       "      <td>0.0</td>\n",
       "      <td>19.0</td>\n",
       "      <td>1.0</td>\n",
       "    </tr>\n",
       "    <tr>\n",
       "      <th>2</th>\n",
       "      <td>4.0</td>\n",
       "      <td>0.0</td>\n",
       "      <td>1.0</td>\n",
       "      <td>8.0</td>\n",
       "      <td>0.0</td>\n",
       "      <td>0.0</td>\n",
       "      <td>0.0</td>\n",
       "      <td>0.0</td>\n",
       "      <td>0.0</td>\n",
       "      <td>23.0</td>\n",
       "      <td>2.0</td>\n",
       "      <td>1.0</td>\n",
       "      <td>2.0</td>\n",
       "      <td>1.0</td>\n",
       "      <td>2.0</td>\n",
       "      <td>0.0</td>\n",
       "      <td>0.0</td>\n",
       "      <td>19.0</td>\n",
       "      <td>3.0</td>\n",
       "    </tr>\n",
       "    <tr>\n",
       "      <th>3</th>\n",
       "      <td>4.0</td>\n",
       "      <td>NaN</td>\n",
       "      <td>1.0</td>\n",
       "      <td>0.0</td>\n",
       "      <td>0.0</td>\n",
       "      <td>0.0</td>\n",
       "      <td>0.0</td>\n",
       "      <td>0.0</td>\n",
       "      <td>0.0</td>\n",
       "      <td>15.0</td>\n",
       "      <td>2.0</td>\n",
       "      <td>0.0</td>\n",
       "      <td>1.0</td>\n",
       "      <td>1.0</td>\n",
       "      <td>2.0</td>\n",
       "      <td>1.0</td>\n",
       "      <td>0.0</td>\n",
       "      <td>13.0</td>\n",
       "      <td>0.0</td>\n",
       "    </tr>\n",
       "    <tr>\n",
       "      <th>4</th>\n",
       "      <td>4.0</td>\n",
       "      <td>0.0</td>\n",
       "      <td>1.0</td>\n",
       "      <td>1.0</td>\n",
       "      <td>0.0</td>\n",
       "      <td>0.0</td>\n",
       "      <td>0.0</td>\n",
       "      <td>0.0</td>\n",
       "      <td>0.0</td>\n",
       "      <td>40.0</td>\n",
       "      <td>2.0</td>\n",
       "      <td>1.0</td>\n",
       "      <td>1.0</td>\n",
       "      <td>1.0</td>\n",
       "      <td>0.0</td>\n",
       "      <td>0.0</td>\n",
       "      <td>0.0</td>\n",
       "      <td>19.0</td>\n",
       "      <td>1.0</td>\n",
       "    </tr>\n",
       "  </tbody>\n",
       "</table>\n",
       "</div>"
      ],
      "text/plain": [
       "   region  usage_preservatif  connaissance_preservatif_vih  \\\n",
       "0     4.0                0.0                           1.0   \n",
       "1     4.0                0.0                           1.0   \n",
       "2     4.0                0.0                           1.0   \n",
       "3     4.0                NaN                           1.0   \n",
       "4     4.0                0.0                           1.0   \n",
       "\n",
       "   connaissance_transmission_sain  a_eu_ist_12mois  deja_teste_vih  \\\n",
       "0                             1.0              0.0             1.0   \n",
       "1                             1.0              0.0             0.0   \n",
       "2                             8.0              0.0             0.0   \n",
       "3                             0.0              0.0             0.0   \n",
       "4                             1.0              0.0             0.0   \n",
       "\n",
       "   niveau_instruction  annees_education  alphabetisation   age  \\\n",
       "0                 0.0               0.0              3.0  27.0   \n",
       "1                 0.0               0.0              0.0  20.0   \n",
       "2                 0.0               0.0              0.0  23.0   \n",
       "3                 0.0               0.0              0.0  15.0   \n",
       "4                 0.0               0.0              0.0  40.0   \n",
       "\n",
       "   milieu_residence  statut_marital  indice_richesse  travaille_actuellement  \\\n",
       "0               2.0             1.0              2.0                     1.0   \n",
       "1               2.0             1.0              2.0                     1.0   \n",
       "2               2.0             1.0              2.0                     1.0   \n",
       "3               2.0             0.0              1.0                     1.0   \n",
       "4               2.0             1.0              1.0                     1.0   \n",
       "\n",
       "   frequence_radio  frequence_tv  utilise_internet  age_premier_rapport  \\\n",
       "0              0.0           0.0               0.0                 19.0   \n",
       "1              2.0           1.0               0.0                 19.0   \n",
       "2              2.0           0.0               0.0                 19.0   \n",
       "3              2.0           1.0               0.0                 13.0   \n",
       "4              0.0           0.0               0.0                 19.0   \n",
       "\n",
       "   nb_partenaires_12mois  \n",
       "0                    1.0  \n",
       "1                    1.0  \n",
       "2                    3.0  \n",
       "3                    0.0  \n",
       "4                    1.0  "
      ]
     },
     "metadata": {},
     "output_type": "display_data"
    }
   ],
   "source": [
    "# Afficher les informations et les premières lignes\n",
    "if 'df' in locals():\n",
    "    print(\"Informations sur le DataFrame :\")\n",
    "    df.info()\n",
    "    \n",
    "    print(\"\\nAperçu des données :\")\n",
    "    display(df.head())"
   ]
  },
  {
   "cell_type": "markdown",
   "id": "0b6040cd",
   "metadata": {},
   "source": [
    "\n",
    "# Phase 5 : Analyse Exploratoire et Nettoyage des Variables\n",
    "\n",
    "Maintenant que nos données sont chargées, nous allons examiner chaque variable une par une. Pour un projet de statistique appliquée, cette étape est cruciale pour garantir la qualité de l'analyse finale.\n",
    "\n",
    "Pour chaque variable, nous suivrons 3 étapes :\n",
    "1.  **Inspection** : Analyser les valeurs brutes et les données manquantes.\n",
    "2.  **Nettoyage/Recodage** : Transformer les données pour les rendre interprétables.\n",
    "3.  **Visualisation** : Représenter la distribution de la variable nettoyée.\n",
    "\n",
    "---\n",
    "\n",
    "## 5.1. Analyse des Variables Dépendantes\n",
    "\n",
    "Commençons par le cœur de notre étude : les variables qui mesurent la prévention.\n"
   ]
  },
  {
   "cell_type": "markdown",
   "id": "fa88d5b3",
   "metadata": {},
   "source": [
    "### 5.1.1. Variable : `usage_preservatif`\n",
    "\n",
    "Cette variable indique si un préservatif a été utilisé lors du dernier rapport sexuel. C'est l'un de nos indicateurs de comportement les plus importants.\n",
    "\n",
    "**Étape 1 : Inspection**\n",
    "\n",
    "Examinons les valeurs brutes de la colonne pour comprendre son codage et identifier les données manquantes ou non applicables.\n"
   ]
  },
  {
   "cell_type": "code",
   "execution_count": 12,
   "id": "fbfc3a65",
   "metadata": {},
   "outputs": [
    {
     "name": "stdout",
     "output_type": "stream",
     "text": [
      "Distribution des valeurs brutes pour 'usage_preservatif' :\n"
     ]
    },
    {
     "data": {
      "application/vnd.microsoft.datawrangler.viewer.v0+json": {
       "columns": [
        {
         "name": "usage_preservatif",
         "rawType": "float64",
         "type": "float"
        },
        {
         "name": "count",
         "rawType": "int64",
         "type": "integer"
        }
       ],
       "ref": "1338ed38-0661-4c96-afd3-9261f91461f9",
       "rows": [
        [
         "0.0",
         "550"
        ],
        [
         null,
         "242"
        ],
        [
         "1.0",
         "88"
        ]
       ],
       "shape": {
        "columns": 1,
        "rows": 3
       }
      },
      "text/plain": [
       "usage_preservatif\n",
       "0.0    550\n",
       "NaN    242\n",
       "1.0     88\n",
       "Name: count, dtype: int64"
      ]
     },
     "metadata": {},
     "output_type": "display_data"
    }
   ],
   "source": [
    "\n",
    "if 'df' in locals():\n",
    "    print(\"Distribution des valeurs brutes pour 'usage_preservatif' :\")\n",
    "    display(df['usage_preservatif'].value_counts(dropna=False))\n",
    "else:\n",
    "    print(\"Le DataFrame 'df' n'est pas chargé.\")\n"
   ]
  },
  {
   "cell_type": "code",
   "execution_count": 13,
   "id": "89bff739",
   "metadata": {},
   "outputs": [
    {
     "name": "stdout",
     "output_type": "stream",
     "text": [
      "Métadonnées chargées avec succès.\n",
      "\n",
      "Libellés pour 'mv761':\n",
      "  0: no\n",
      "  1: yes\n",
      "  8: don't know\n"
     ]
    }
   ],
   "source": [
    "\n",
    "# Pour interpréter les codes numériques, nous devons récupérer les métadonnées\n",
    "# du fichier .sav original.\n",
    "import pyreadstat\n",
    "\n",
    "sav_file_path = 'BJMR71DT/BJMR71DT.sav'\n",
    "try:\n",
    "    _, meta = pyreadstat.read_sav(sav_file_path)\n",
    "    print(\"Métadonnées chargées avec succès.\")\n",
    "except FileNotFoundError:\n",
    "    print(f\"Erreur : Le fichier '{sav_file_path}' est nécessaire pour les libellés.\")\n",
    "\n",
    "# Afficher les libellés pour la variable 'usage_preservatif' (nom original : mv761)\n",
    "if 'meta' in locals():\n",
    "    variable_name = 'mv761'\n",
    "    if variable_name in meta.variable_value_labels:\n",
    "        print(f\"\\nLibellés pour '{variable_name}':\")\n",
    "        for value, label in meta.variable_value_labels[variable_name].items():\n",
    "            print(f\"  {int(value)}: {label}\")\n",
    "    else:\n",
    "        print(f\"Pas de libellés trouvés pour '{variable_name}'.\")\n"
   ]
  },
  {
   "cell_type": "markdown",
   "id": "0ecbe4eb",
   "metadata": {},
   "source": [
    "**Étape 1 (suite) : Interprétation**\n",
    "\n",
    "L'inspection révèle trois catégories dans notre échantillon du Borgou :\n",
    "\n",
    "- **1.0 (Oui)** : 88 répondants  \n",
    "- **0.0 (Non)** : 550 répondants  \n",
    "- **NaN (Manquant)** : 242 répondants  \n",
    "\n",
    "**Analyse Statistique**  \n",
    "La présence de **242 valeurs manquantes (NaN)** est significative. Dans le contexte des enquêtes EDS, cela correspond généralement à un filtre dans le questionnaire : la question sur l'usage du préservatif n'est posée qu'aux hommes ayant eu une activité sexuelle dans une période de référence récente.\n",
    "\n",
    "**Stratégie de Traitement**  \n",
    "Pour analyser le comportement (usage ou non du préservatif), notre population d'intérêt est constituée uniquement des hommes ayant eu une activité sexuelle et ayant répondu à la question. Les **242 cas NaN** seront donc exclus de l'analyse spécifique à cette variable.\n",
    "\n",
    "Nous allons maintenant recoder la variable pour la rendre plus lisible.\n"
   ]
  },
  {
   "cell_type": "markdown",
   "id": "1d45659a",
   "metadata": {},
   "source": [
    "\n",
    "**Étape 2 : Nettoyage et Recodage**\n",
    "\n",
    "Nous allons créer une nouvelle colonne avec des libellés clairs pour faciliter les visualisations et les interprétations.\n"
   ]
  },
  {
   "cell_type": "code",
   "execution_count": 14,
   "id": "322ec487",
   "metadata": {},
   "outputs": [
    {
     "name": "stdout",
     "output_type": "stream",
     "text": [
      "Distribution de la variable recodée :\n"
     ]
    },
    {
     "data": {
      "application/vnd.microsoft.datawrangler.viewer.v0+json": {
       "columns": [
        {
         "name": "usage_preservatif_cat",
         "rawType": "object",
         "type": "string"
        },
        {
         "name": "count",
         "rawType": "int64",
         "type": "integer"
        }
       ],
       "ref": "5c007046-dfbf-4d27-ab21-955f2860fda5",
       "rows": [
        [
         "Non",
         "550"
        ],
        [
         "Non concerné / Manquant",
         "242"
        ],
        [
         "Oui",
         "88"
        ]
       ],
       "shape": {
        "columns": 1,
        "rows": 3
       }
      },
      "text/plain": [
       "usage_preservatif_cat\n",
       "Non                        550\n",
       "Non concerné / Manquant    242\n",
       "Oui                         88\n",
       "Name: count, dtype: int64"
      ]
     },
     "metadata": {},
     "output_type": "display_data"
    }
   ],
   "source": [
    "\n",
    "if 'df' in locals():\n",
    "    # Définir le mapping\n",
    "    mapping = {\n",
    "        0.0: 'Non',\n",
    "        1.0: 'Oui',\n",
    "        np.nan: 'Non concerné / Manquant'\n",
    "    }\n",
    "    \n",
    "    # Appliquer le mapping pour créer une nouvelle colonne de visualisation\n",
    "    df['usage_preservatif_cat'] = df['usage_preservatif'].map(mapping)\n",
    "    \n",
    "    print(\"Distribution de la variable recodée :\")\n",
    "    display(df['usage_preservatif_cat'].value_counts())\n",
    "else:\n",
    "    print(\"Le DataFrame 'df' n'est pas chargé.\")\n"
   ]
  },
  {
   "cell_type": "markdown",
   "id": "c33045cd",
   "metadata": {},
   "source": [
    "\n",
    "**Étape 3 : Visualisation**\n",
    "\n",
    "Un diagramme circulaire (camembert) est parfait pour visualiser la proportion de chaque catégorie.\n"
   ]
  },
  {
   "cell_type": "code",
   "execution_count": 15,
   "id": "68bda410",
   "metadata": {},
   "outputs": [
    {
     "data": {
      "image/png": "[encoded data removed]",
      "text/plain": [
       "<Figure size 1000x800 with 1 Axes>"
      ]
     },
     "metadata": {},
     "output_type": "display_data"
    }
   ],
   "source": [
    "\n",
    "if 'df' in locals():\n",
    "    # Calculer les effectifs\n",
    "    counts = df['usage_preservatif_cat'].value_counts()\n",
    "    \n",
    "    # Créer le diagramme circulaire\n",
    "    plt.figure(figsize=(10, 8))\n",
    "    plt.pie(counts, labels=counts.index, autopct='%1.1f%%', startangle=140, colors=['#ff9999','#66b3ff','#99ff99'])\n",
    "    \n",
    "    # Ajouter un titre\n",
    "    plt.title('Répartition des réponses sur l\\'usage du préservatif', fontsize=16)\n",
    "    \n",
    "    # Assurer un cercle parfait\n",
    "    plt.axis('equal') \n",
    "    \n",
    "    # Afficher le graphique\n",
    "    plt.show()\n",
    "else:\n",
    "    print(\"Le DataFrame 'df' n'est pas chargé.\")\n"
   ]
  },
  {
   "cell_type": "markdown",
   "id": "26f151e6",
   "metadata": {},
   "source": [
    "\n",
    "---\n",
    "### 5.1.2. Variable : `connaissance_preservatif_vih`\n",
    "\n",
    "Cette variable mesure si le répondant sait que l'utilisation systématique du préservatif peut réduire le risque de contracter le VIH. C'est un indicateur de connaissance fondamental.\n",
    "\n",
    "**Étape 1 : Inspection**\n"
   ]
  },
  {
   "cell_type": "code",
   "execution_count": 16,
   "id": "78cdd0cd",
   "metadata": {},
   "outputs": [
    {
     "name": "stdout",
     "output_type": "stream",
     "text": [
      "Distribution des valeurs brutes pour 'connaissance_preservatif_vih' :\n"
     ]
    },
    {
     "data": {
      "application/vnd.microsoft.datawrangler.viewer.v0+json": {
       "columns": [
        {
         "name": "connaissance_preservatif_vih",
         "rawType": "float64",
         "type": "float"
        },
        {
         "name": "count",
         "rawType": "int64",
         "type": "integer"
        }
       ],
       "ref": "b8dddcf8-64ed-4dcd-8fb4-de39317af7ca",
       "rows": [
        [
         "1.0",
         "719"
        ],
        [
         "0.0",
         "77"
        ],
        [
         "8.0",
         "68"
        ],
        [
         null,
         "16"
        ]
       ],
       "shape": {
        "columns": 1,
        "rows": 4
       }
      },
      "text/plain": [
       "connaissance_preservatif_vih\n",
       "1.0    719\n",
       "0.0     77\n",
       "8.0     68\n",
       "NaN     16\n",
       "Name: count, dtype: int64"
      ]
     },
     "metadata": {},
     "output_type": "display_data"
    },
    {
     "name": "stdout",
     "output_type": "stream",
     "text": [
      "\n",
      "Libellés pour 'mv754cp':\n",
      "  0: no\n",
      "  1: yes\n",
      "  8: don't know\n"
     ]
    }
   ],
   "source": [
    "\n",
    "if 'df' in locals():\n",
    "    print(\"Distribution des valeurs brutes pour 'connaissance_preservatif_vih' :\")\n",
    "    display(df['connaissance_preservatif_vih'].value_counts(dropna=False))\n",
    "    \n",
    "    # Afficher les libellés correspondants\n",
    "    variable_name_orig = 'mv754cp'\n",
    "    if 'meta' in locals() and variable_name_orig in meta.variable_value_labels:\n",
    "        print(f\"\\nLibellés pour '{variable_name_orig}':\")\n",
    "        for value, label in meta.variable_value_labels[variable_name_orig].items():\n",
    "            print(f\"  {int(value)}: {label}\")\n",
    "else:\n",
    "    print(\"Le DataFrame 'df' n'est pas chargé.\")\n"
   ]
  },
  {
   "cell_type": "markdown",
   "id": "68aa123f",
   "metadata": {},
   "source": [
    "\n",
    "**Étape 1 (suite) : Interprétation**\n",
    "\n",
    "Les résultats de l'inspection sont les suivants :\n",
    "- **`1.0` (Oui)** : 719 répondants.\n",
    "- **`0.0` (Non)** : 77 répondants.\n",
    "- **`8.0` (Ne sait pas)** : 68 répondants.\n",
    "- **`NaN` (Manquant)** : 16 répondants.\n",
    "\n",
    "**Analyse Statistique :**\n",
    "Le niveau de connaissance est globalement très élevé, avec une écrasante majorité (719 sur 880 répondants valides) qui connaît le rôle préventif du préservatif. Cependant, les catégories \"Non\" et \"Ne sait pas\" ne sont pas négligeables et représentent des cibles potentielles pour des campagnes de sensibilisation. Les 16 valeurs manquantes seront exclues des analyses sur cette variable.\n",
    "\n",
    "**Stratégie de Traitement :**\n",
    "Nous allons recoder la variable en quatre catégories claires pour l'analyse et la visualisation.\n"
   ]
  },
  {
   "cell_type": "markdown",
   "id": "00ea3bc9",
   "metadata": {},
   "source": [
    "\n",
    "**Étape 2 : Nettoyage et Recodage**\n"
   ]
  },
  {
   "cell_type": "code",
   "execution_count": 17,
   "id": "99af8623",
   "metadata": {},
   "outputs": [
    {
     "name": "stdout",
     "output_type": "stream",
     "text": [
      "Distribution de la variable recodée :\n"
     ]
    },
    {
     "data": {
      "application/vnd.microsoft.datawrangler.viewer.v0+json": {
       "columns": [
        {
         "name": "connaissance_preservatif_vih_cat",
         "rawType": "object",
         "type": "string"
        },
        {
         "name": "count",
         "rawType": "int64",
         "type": "integer"
        }
       ],
       "ref": "51c17a2d-9516-434b-9300-e750422e404a",
       "rows": [
        [
         "Oui",
         "719"
        ],
        [
         "Non",
         "77"
        ],
        [
         "Ne sait pas",
         "68"
        ],
        [
         "Manquant",
         "16"
        ]
       ],
       "shape": {
        "columns": 1,
        "rows": 4
       }
      },
      "text/plain": [
       "connaissance_preservatif_vih_cat\n",
       "Oui            719\n",
       "Non             77\n",
       "Ne sait pas     68\n",
       "Manquant        16\n",
       "Name: count, dtype: int64"
      ]
     },
     "metadata": {},
     "output_type": "display_data"
    }
   ],
   "source": [
    "\n",
    "if 'df' in locals():\n",
    "    # Définir le mapping\n",
    "    mapping_connaissance = {\n",
    "        1.0: 'Oui',\n",
    "        0.0: 'Non',\n",
    "        8.0: 'Ne sait pas',\n",
    "        np.nan: 'Manquant'\n",
    "    }\n",
    "    \n",
    "    # Appliquer le mapping\n",
    "    df['connaissance_preservatif_vih_cat'] = df['connaissance_preservatif_vih'].map(mapping_connaissance)\n",
    "    \n",
    "    print(\"Distribution de la variable recodée :\")\n",
    "    display(df['connaissance_preservatif_vih_cat'].value_counts())\n",
    "else:\n",
    "    print(\"Le DataFrame 'df' n'est pas chargé.\")\n"
   ]
  },
  {
   "cell_type": "markdown",
   "id": "f6061c98",
   "metadata": {},
   "source": [
    "\n",
    "**Étape 3 : Visualisation**\n",
    "\n",
    "Un diagramme en barres est idéal pour comparer les effectifs de chaque catégorie de réponse.\n"
   ]
  },
  {
   "cell_type": "code",
   "execution_count": 18,
   "id": "756e11a8",
   "metadata": {},
   "outputs": [
    {
     "name": "stderr",
     "output_type": "stream",
     "text": [
      "/tmp/ipykernel_53031/1927648325.py:4: FutureWarning: \n",
      "\n",
      "Passing `palette` without assigning `hue` is deprecated and will be removed in v0.14.0. Assign the `x` variable to `hue` and set `legend=False` for the same effect.\n",
      "\n",
      "  ax = sns.countplot(x='connaissance_preservatif_vih_cat',\n"
     ]
    },
    {
     "data": {
      "image/png": "[encoded data removed]",
      "text/plain": [
       "<Figure size 1000x600 with 1 Axes>"
      ]
     },
     "metadata": {},
     "output_type": "display_data"
    }
   ],
   "source": [
    "\n",
    "if 'df' in locals():\n",
    "    # Créer le diagramme en barres\n",
    "    plt.figure(figsize=(10, 6))\n",
    "    ax = sns.countplot(x='connaissance_preservatif_vih_cat', \n",
    "                       data=df, \n",
    "                       order=['Oui', 'Non', 'Ne sait pas', 'Manquant'],\n",
    "                       palette=['#77dd77','#ff6961','#ffb347', '#c2c2c2'])\n",
    "    \n",
    "    # Ajouter les effectifs au-dessus des barres\n",
    "    for p in ax.patches:\n",
    "        ax.annotate(f'{p.get_height()}', \n",
    "                    (p.get_x() + p.get_width() / 2., p.get_height()), \n",
    "                    ha='center', va='center', \n",
    "                    xytext=(0, 9), \n",
    "                    textcoords='offset points')\n",
    "    \n",
    "    # Titres et labels\n",
    "    plt.title('Connaissance de l\\'efficacité du préservatif contre le VIH', fontsize=16)\n",
    "    plt.xlabel('Réponse', fontsize=12)\n",
    "    plt.ylabel('Nombre de répondants', fontsize=12)\n",
    "    \n",
    "    # Afficher le graphique\n",
    "    plt.show()\n",
    "else:\n",
    "    print(\"Le DataFrame 'df' n'est pas chargé.\")\n"
   ]
  },
  {
   "cell_type": "markdown",
   "id": "a157c59e",
   "metadata": {},
   "source": [
    "\n",
    "---\n",
    "### 5.1.3. Variable : `connaissance_transmission_sain`\n",
    "\n",
    "Cette variable évalue si le répondant est conscient qu'une personne d'apparence saine peut être porteuse du VIH. C'est une mesure de la connaissance sur la transmission asymptomatique.\n",
    "\n",
    "**Étape 1 : Inspection**\n"
   ]
  },
  {
   "cell_type": "code",
   "execution_count": 19,
   "id": "8b8830a8",
   "metadata": {},
   "outputs": [
    {
     "name": "stdout",
     "output_type": "stream",
     "text": [
      "Distribution des valeurs brutes pour 'connaissance_transmission_sain' :\n"
     ]
    },
    {
     "data": {
      "application/vnd.microsoft.datawrangler.viewer.v0+json": {
       "columns": [
        {
         "name": "connaissance_transmission_sain",
         "rawType": "float64",
         "type": "float"
        },
        {
         "name": "count",
         "rawType": "int64",
         "type": "integer"
        }
       ],
       "ref": "1949580c-0fc4-4aef-80c2-cafa56aada7f",
       "rows": [
        [
         "1.0",
         "711"
        ],
        [
         "0.0",
         "88"
        ],
        [
         "8.0",
         "65"
        ],
        [
         null,
         "16"
        ]
       ],
       "shape": {
        "columns": 1,
        "rows": 4
       }
      },
      "text/plain": [
       "connaissance_transmission_sain\n",
       "1.0    711\n",
       "0.0     88\n",
       "8.0     65\n",
       "NaN     16\n",
       "Name: count, dtype: int64"
      ]
     },
     "metadata": {},
     "output_type": "display_data"
    },
    {
     "name": "stdout",
     "output_type": "stream",
     "text": [
      "\n",
      "Libellés pour 'mv756':\n",
      "  0: no\n",
      "  1: yes\n",
      "  8: don't know\n"
     ]
    }
   ],
   "source": [
    "\n",
    "if 'df' in locals():\n",
    "    print(\"Distribution des valeurs brutes pour 'connaissance_transmission_sain' :\")\n",
    "    display(df['connaissance_transmission_sain'].value_counts(dropna=False))\n",
    "    \n",
    "    # Afficher les libellés correspondants\n",
    "    variable_name_orig = 'mv756'\n",
    "    if 'meta' in locals() and variable_name_orig in meta.variable_value_labels:\n",
    "        print(f\"\\nLibellés pour '{variable_name_orig}':\")\n",
    "        for value, label in meta.variable_value_labels[variable_name_orig].items():\n",
    "            print(f\"  {int(value)}: {label}\")\n",
    "else:\n",
    "    print(\"Le DataFrame 'df' n'est pas chargé.\")\n"
   ]
  },
  {
   "cell_type": "markdown",
   "id": "c3d2d7c6",
   "metadata": {},
   "source": [
    "\n",
    "**Étape 1 (suite) : Interprétation**\n",
    "\n",
    "Les résultats pour cette variable sont très similaires à la précédente :\n",
    "- **`1.0` (Oui)** : 711 répondants.\n",
    "- **`0.0` (Non)** : 88 répondants.\n",
    "- **`8.0` (Ne sait pas)** : 65 répondants.\n",
    "- **`NaN` (Manquant)** : 16 répondants.\n",
    "\n",
    "**Analyse Statistique :**\n",
    "Encore une fois, une forte majorité de la population interrogée est consciente du risque de transmission par une personne d'apparence saine. Les groupes \"Non\" et \"Ne sait pas\" restent des cibles pertinentes pour des actions de sensibilisation. Les 16 valeurs manquantes seront écartées de l'analyse de cette variable.\n",
    "\n",
    "**Stratégie de Traitement :**\n",
    "Nous allons recoder la variable en quatre catégories claires : 'Oui', 'Non', 'Ne sait pas', et 'Manquant'.\n"
   ]
  },
  {
   "cell_type": "markdown",
   "id": "08dfe16d",
   "metadata": {},
   "source": [
    "\n",
    "**Étape 2 : Nettoyage et Recodage**\n"
   ]
  },
  {
   "cell_type": "code",
   "execution_count": 20,
   "id": "23658ebe",
   "metadata": {},
   "outputs": [
    {
     "name": "stdout",
     "output_type": "stream",
     "text": [
      "Distribution de la variable recodée :\n"
     ]
    },
    {
     "data": {
      "application/vnd.microsoft.datawrangler.viewer.v0+json": {
       "columns": [
        {
         "name": "connaissance_transmission_sain_cat",
         "rawType": "object",
         "type": "string"
        },
        {
         "name": "count",
         "rawType": "int64",
         "type": "integer"
        }
       ],
       "ref": "41cc7f57-e913-4064-ab5c-eb78ec65d514",
       "rows": [
        [
         "Oui",
         "711"
        ],
        [
         "Non",
         "88"
        ],
        [
         "Ne sait pas",
         "65"
        ],
        [
         "Manquant",
         "16"
        ]
       ],
       "shape": {
        "columns": 1,
        "rows": 4
       }
      },
      "text/plain": [
       "connaissance_transmission_sain_cat\n",
       "Oui            711\n",
       "Non             88\n",
       "Ne sait pas     65\n",
       "Manquant        16\n",
       "Name: count, dtype: int64"
      ]
     },
     "metadata": {},
     "output_type": "display_data"
    }
   ],
   "source": [
    "\n",
    "if 'df' in locals():\n",
    "    # Définir le mapping\n",
    "    mapping_sain = {\n",
    "        1.0: 'Oui',\n",
    "        0.0: 'Non',\n",
    "        8.0: 'Ne sait pas',\n",
    "        np.nan: 'Manquant'\n",
    "    }\n",
    "    \n",
    "    # Appliquer le mapping\n",
    "    df['connaissance_transmission_sain_cat'] = df['connaissance_transmission_sain'].map(mapping_sain)\n",
    "    \n",
    "    print(\"Distribution de la variable recodée :\")\n",
    "    display(df['connaissance_transmission_sain_cat'].value_counts())\n",
    "else:\n",
    "    print(\"Le DataFrame 'df' n'est pas chargé.\")\n"
   ]
  },
  {
   "cell_type": "markdown",
   "id": "d861c8d9",
   "metadata": {},
   "source": [
    "\n",
    "**Étape 3 : Visualisation**\n"
   ]
  },
  {
   "cell_type": "code",
   "execution_count": 21,
   "id": "bac5edad",
   "metadata": {},
   "outputs": [
    {
     "name": "stderr",
     "output_type": "stream",
     "text": [
      "/tmp/ipykernel_53031/985136587.py:4: FutureWarning: \n",
      "\n",
      "Passing `palette` without assigning `hue` is deprecated and will be removed in v0.14.0. Assign the `x` variable to `hue` and set `legend=False` for the same effect.\n",
      "\n",
      "  ax = sns.countplot(x='connaissance_transmission_sain_cat',\n"
     ]
    },
    {
     "data": {
      "image/png": "[encoded data removed]",
      "text/plain": [
       "<Figure size 1000x600 with 1 Axes>"
      ]
     },
     "metadata": {},
     "output_type": "display_data"
    }
   ],
   "source": [
    "\n",
    "if 'df' in locals():\n",
    "    # Créer le diagramme en barres\n",
    "    plt.figure(figsize=(10, 6))\n",
    "    ax = sns.countplot(x='connaissance_transmission_sain_cat', \n",
    "                       data=df, \n",
    "                       order=['Oui', 'Non', 'Ne sait pas', 'Manquant'],\n",
    "                       palette=['#77dd77','#ff6961','#ffb347', '#c2c2c2'])\n",
    "    \n",
    "    # Ajouter les effectifs au-dessus des barres\n",
    "    for p in ax.patches:\n",
    "        ax.annotate(f'{p.get_height()}', \n",
    "                    (p.get_x() + p.get_width() / 2., p.get_height()), \n",
    "                    ha='center', va='center', \n",
    "                    xytext=(0, 9), \n",
    "                    textcoords='offset points')\n",
    "    \n",
    "    # Titres et labels\n",
    "    plt.title('Connaissance de la transmission du VIH par une personne saine', fontsize=16)\n",
    "    plt.xlabel('Réponse', fontsize=12)\n",
    "    plt.ylabel('Nombre de répondants', fontsize=12)\n",
    "    \n",
    "    # Afficher le graphique\n",
    "    plt.show()\n",
    "else:\n",
    "    print(\"Le DataFrame 'df' n'est pas chargé.\")\n"
   ]
  },
  {
   "cell_type": "markdown",
   "id": "da4a5875",
   "metadata": {},
   "source": [
    "\n",
    "---\n",
    "### 5.1.4. Variable : `a_eu_ist_12mois`\n",
    "\n",
    "Cette variable de perception du risque indique si le répondant a eu une Infection Sexuellement Transmissible (IST) ou des symptômes d'IST au cours des 12 derniers mois.\n",
    "\n",
    "**Étape 1 : Inspection**\n"
   ]
  },
  {
   "cell_type": "code",
   "execution_count": 22,
   "id": "fdd6f1c7",
   "metadata": {},
   "outputs": [
    {
     "name": "stdout",
     "output_type": "stream",
     "text": [
      "Distribution des valeurs brutes pour 'a_eu_ist_12mois' :\n"
     ]
    },
    {
     "data": {
      "application/vnd.microsoft.datawrangler.viewer.v0+json": {
       "columns": [
        {
         "name": "a_eu_ist_12mois",
         "rawType": "float64",
         "type": "float"
        },
        {
         "name": "count",
         "rawType": "int64",
         "type": "integer"
        }
       ],
       "ref": "a33c7e90-c39e-4d22-85fb-25e6a76bcc7b",
       "rows": [
        [
         "0.0",
         "865"
        ],
        [
         "1.0",
         "14"
        ],
        [
         "8.0",
         "1"
        ]
       ],
       "shape": {
        "columns": 1,
        "rows": 3
       }
      },
      "text/plain": [
       "a_eu_ist_12mois\n",
       "0.0    865\n",
       "1.0     14\n",
       "8.0      1\n",
       "Name: count, dtype: int64"
      ]
     },
     "metadata": {},
     "output_type": "display_data"
    },
    {
     "name": "stdout",
     "output_type": "stream",
     "text": [
      "\n",
      "Libellés pour 'mv763a':\n",
      "  0: no\n",
      "  1: yes\n",
      "  8: don't know\n"
     ]
    }
   ],
   "source": [
    "\n",
    "if 'df' in locals():\n",
    "    print(\"Distribution des valeurs brutes pour 'a_eu_ist_12mois' :\")\n",
    "    display(df['a_eu_ist_12mois'].value_counts(dropna=False))\n",
    "    \n",
    "    # Afficher les libellés correspondants\n",
    "    variable_name_orig = 'mv763a'\n",
    "    if 'meta' in locals() and variable_name_orig in meta.variable_value_labels:\n",
    "        print(f\"\\nLibellés pour '{variable_name_orig}':\")\n",
    "        for value, label in meta.variable_value_labels[variable_name_orig].items():\n",
    "            print(f\"  {int(value)}: {label}\")\n",
    "else:\n",
    "    print(\"Le DataFrame 'df' n'est pas chargé.\")\n"
   ]
  },
  {
   "cell_type": "markdown",
   "id": "33fb6eef",
   "metadata": {},
   "source": [
    "\n",
    "**Étape 1 (suite) : Interprétation**\n",
    "\n",
    "Les résultats de l'inspection sont les suivants :\n",
    "- **`0.0` (Non)** : 865 répondants.\n",
    "- **`1.0` (Oui)** : 14 répondants.\n",
    "- **`8.0` (Ne sait pas)** : 1 répondant.\n",
    "- **`NaN` (Manquant)** : 0.\n",
    "\n",
    "**Analyse Statistique :**\n",
    "Une très faible proportion des hommes interrogés (14 sur 880, soit environ 1,6%) déclare avoir eu une IST ou des symptômes au cours des 12 derniers mois. La quasi-totalité (98,3%) n'en a pas eu. Le fait qu'il n'y ait aucune valeur manquante suggère que la question a été posée à l'ensemble de l'échantillon.\n",
    "\n",
    "**Stratégie de Traitement :**\n",
    "Nous allons recoder la variable en trois catégories claires : 'Oui', 'Non', et 'Ne sait pas'. La catégorie 'Ne sait pas' est très marginale (1 seul cas) mais nous la conserverons pour l'instant.\n"
   ]
  },
  {
   "cell_type": "markdown",
   "id": "3d78abc5",
   "metadata": {},
   "source": [
    "\n",
    "**Étape 2 : Nettoyage et Recodage**\n"
   ]
  },
  {
   "cell_type": "code",
   "execution_count": 23,
   "id": "8a7d8336",
   "metadata": {},
   "outputs": [
    {
     "name": "stdout",
     "output_type": "stream",
     "text": [
      "Distribution de la variable recodée :\n"
     ]
    },
    {
     "data": {
      "application/vnd.microsoft.datawrangler.viewer.v0+json": {
       "columns": [
        {
         "name": "a_eu_ist_12mois_cat",
         "rawType": "object",
         "type": "string"
        },
        {
         "name": "count",
         "rawType": "int64",
         "type": "integer"
        }
       ],
       "ref": "a541e5d9-d543-4f95-9355-8de5da85e17c",
       "rows": [
        [
         "Non",
         "865"
        ],
        [
         "Oui",
         "14"
        ],
        [
         "Ne sait pas",
         "1"
        ]
       ],
       "shape": {
        "columns": 1,
        "rows": 3
       }
      },
      "text/plain": [
       "a_eu_ist_12mois_cat\n",
       "Non            865\n",
       "Oui             14\n",
       "Ne sait pas      1\n",
       "Name: count, dtype: int64"
      ]
     },
     "metadata": {},
     "output_type": "display_data"
    }
   ],
   "source": [
    "\n",
    "if 'df' in locals():\n",
    "    # Définir le mapping\n",
    "    mapping_ist = {\n",
    "        1.0: 'Oui',\n",
    "        0.0: 'Non',\n",
    "        8.0: 'Ne sait pas',\n",
    "        np.nan: 'Manquant' # Même si absent, c'est une bonne pratique\n",
    "    }\n",
    "    \n",
    "    # Appliquer le mapping\n",
    "    df['a_eu_ist_12mois_cat'] = df['a_eu_ist_12mois'].map(mapping_ist)\n",
    "    \n",
    "    print(\"Distribution de la variable recodée :\")\n",
    "    display(df['a_eu_ist_12mois_cat'].value_counts())\n",
    "else:\n",
    "    print(\"Le DataFrame 'df' n'est pas chargé.\")\n"
   ]
  },
  {
   "cell_type": "markdown",
   "id": "71417cc0",
   "metadata": {},
   "source": [
    "\n",
    "**Étape 3 : Visualisation**\n"
   ]
  },
  {
   "cell_type": "code",
   "execution_count": 24,
   "id": "536765c7",
   "metadata": {},
   "outputs": [
    {
     "name": "stderr",
     "output_type": "stream",
     "text": [
      "/tmp/ipykernel_53031/1024020907.py:4: FutureWarning: \n",
      "\n",
      "Passing `palette` without assigning `hue` is deprecated and will be removed in v0.14.0. Assign the `x` variable to `hue` and set `legend=False` for the same effect.\n",
      "\n",
      "  ax = sns.countplot(x='a_eu_ist_12mois_cat',\n"
     ]
    },
    {
     "data": {
      "image/png": "[encoded data removed]",
      "text/plain": [
       "<Figure size 1000x600 with 1 Axes>"
      ]
     },
     "metadata": {},
     "output_type": "display_data"
    }
   ],
   "source": [
    "\n",
    "if 'df' in locals():\n",
    "    # Créer le diagramme en barres\n",
    "    plt.figure(figsize=(10, 6))\n",
    "    ax = sns.countplot(x='a_eu_ist_12mois_cat', \n",
    "                       data=df, \n",
    "                       order=['Oui', 'Non', 'Ne sait pas'],\n",
    "                       palette=['#ff6961', '#77dd77', '#ffb347'])\n",
    "    \n",
    "    # Ajouter les effectifs au-dessus des barres\n",
    "    for p in ax.patches:\n",
    "        ax.annotate(f'{p.get_height()}', \n",
    "                    (p.get_x() + p.get_width() / 2., p.get_height()), \n",
    "                    ha='center', va='center', \n",
    "                    xytext=(0, 9), \n",
    "                    textcoords='offset points')\n",
    "    \n",
    "    # Titres et labels\n",
    "    plt.title('Déclaration d\\'une IST au cours des 12 derniers mois', fontsize=16)\n",
    "    plt.xlabel('Réponse', fontsize=12)\n",
    "    plt.ylabel('Nombre de répondants', fontsize=12)\n",
    "    \n",
    "    # Afficher le graphique\n",
    "    plt.show()\n",
    "else:\n",
    "    print(\"Le DataFrame 'df' n'est pas chargé.\")\n"
   ]
  },
  {
   "cell_type": "markdown",
   "id": "cb526080",
   "metadata": {},
   "source": [
    "\n",
    "---\n",
    "### 5.1.5. Variable : `deja_teste_vih`\n",
    "\n",
    "Cette variable indique si le répondant a déjà fait un test de dépistage du VIH. C'est un indicateur clé du recours aux services de santé préventive.\n",
    "\n",
    "**Étape 1 : Inspection**\n"
   ]
  },
  {
   "cell_type": "code",
   "execution_count": 25,
   "id": "e5b879c2",
   "metadata": {},
   "outputs": [
    {
     "name": "stdout",
     "output_type": "stream",
     "text": [
      "Distribution des valeurs brutes pour 'deja_teste_vih' :\n"
     ]
    },
    {
     "data": {
      "application/vnd.microsoft.datawrangler.viewer.v0+json": {
       "columns": [
        {
         "name": "deja_teste_vih",
         "rawType": "float64",
         "type": "float"
        },
        {
         "name": "count",
         "rawType": "int64",
         "type": "integer"
        }
       ],
       "ref": "12912d01-4449-40c0-a3e6-bba51ca82d3b",
       "rows": [
        [
         "0.0",
         "771"
        ],
        [
         "1.0",
         "109"
        ]
       ],
       "shape": {
        "columns": 1,
        "rows": 2
       }
      },
      "text/plain": [
       "deja_teste_vih\n",
       "0.0    771\n",
       "1.0    109\n",
       "Name: count, dtype: int64"
      ]
     },
     "metadata": {},
     "output_type": "display_data"
    },
    {
     "name": "stdout",
     "output_type": "stream",
     "text": [
      "\n",
      "Libellés pour 'mv781':\n",
      "  0: no\n",
      "  1: yes\n"
     ]
    }
   ],
   "source": [
    "\n",
    "if 'df' in locals():\n",
    "    print(\"Distribution des valeurs brutes pour 'deja_teste_vih' :\")\n",
    "    display(df['deja_teste_vih'].value_counts(dropna=False))\n",
    "    \n",
    "    # Afficher les libellés correspondants\n",
    "    variable_name_orig = 'mv781'\n",
    "    if 'meta' in locals() and variable_name_orig in meta.variable_value_labels:\n",
    "        print(f\"\\nLibellés pour '{variable_name_orig}':\")\n",
    "        for value, label in meta.variable_value_labels[variable_name_orig].items():\n",
    "            print(f\"  {int(value)}: {label}\")\n",
    "else:\n",
    "    print(\"Le DataFrame 'df' n'est pas chargé.\")\n"
   ]
  },
  {
   "cell_type": "markdown",
   "id": "c8f1b239",
   "metadata": {},
   "source": [
    "\n",
    "**Étape 1 (suite) : Interprétation**\n",
    "\n",
    "Les résultats de l'inspection sont très clairs :\n",
    "- **`0.0` (Non)** : 771 répondants.\n",
    "- **`1.0` (Oui)** : 109 répondants.\n",
    "- **`NaN` (Manquant)** : 0.\n",
    "\n",
    "**Analyse Statistique :**\n",
    "Une minorité significative (109 sur 880, soit environ 12,4%) des hommes interrogés dans le Borgou a déjà effectué un test de dépistage du VIH. La grande majorité (87,6%) ne l'a jamais fait. L'absence de valeurs manquantes indique que la question a été posée à tous les participants de notre échantillon.\n",
    "\n",
    "**Stratégie de Traitement :**\n",
    "La variable est déjà propre. Nous allons simplement la recoder avec des libellés explicites pour l'analyse.\n"
   ]
  },
  {
   "cell_type": "markdown",
   "id": "7591952e",
   "metadata": {},
   "source": [
    "\n",
    "**Étape 2 : Nettoyage et Recodage**\n"
   ]
  },
  {
   "cell_type": "code",
   "execution_count": 26,
   "id": "c6fc0529",
   "metadata": {},
   "outputs": [
    {
     "name": "stdout",
     "output_type": "stream",
     "text": [
      "Distribution de la variable recodée :\n"
     ]
    },
    {
     "data": {
      "application/vnd.microsoft.datawrangler.viewer.v0+json": {
       "columns": [
        {
         "name": "deja_teste_vih_cat",
         "rawType": "object",
         "type": "string"
        },
        {
         "name": "count",
         "rawType": "int64",
         "type": "integer"
        }
       ],
       "ref": "35883e45-3f49-4639-a343-d3f266857a6e",
       "rows": [
        [
         "Non",
         "771"
        ],
        [
         "Oui",
         "109"
        ]
       ],
       "shape": {
        "columns": 1,
        "rows": 2
       }
      },
      "text/plain": [
       "deja_teste_vih_cat\n",
       "Non    771\n",
       "Oui    109\n",
       "Name: count, dtype: int64"
      ]
     },
     "metadata": {},
     "output_type": "display_data"
    }
   ],
   "source": [
    "\n",
    "if 'df' in locals():\n",
    "    # Définir le mapping\n",
    "    mapping_test = {\n",
    "        1.0: 'Oui',\n",
    "        0.0: 'Non',\n",
    "        np.nan: 'Manquant'\n",
    "    }\n",
    "    \n",
    "    # Appliquer le mapping\n",
    "    df['deja_teste_vih_cat'] = df['deja_teste_vih'].map(mapping_test)\n",
    "    \n",
    "    print(\"Distribution de la variable recodée :\")\n",
    "    display(df['deja_teste_vih_cat'].value_counts())\n",
    "else:\n",
    "    print(\"Le DataFrame 'df' n'est pas chargé.\")\n"
   ]
  },
  {
   "cell_type": "markdown",
   "id": "4539f8d7",
   "metadata": {},
   "source": [
    "\n",
    "**Étape 3 : Visualisation**\n"
   ]
  },
  {
   "cell_type": "code",
   "execution_count": 29,
   "id": "615bcb57",
   "metadata": {},
   "outputs": [
    {
     "name": "stderr",
     "output_type": "stream",
     "text": [
      "/tmp/ipykernel_53031/1628593959.py:4: FutureWarning: \n",
      "\n",
      "Passing `palette` without assigning `hue` is deprecated and will be removed in v0.14.0. Assign the `x` variable to `hue` and set `legend=False` for the same effect.\n",
      "\n",
      "  ax = sns.countplot(x='deja_teste_vih_cat',\n"
     ]
    },
    {
     "data": {
      "image/png": "[encoded data removed]",
      "text/plain": [
       "<Figure size 1000x600 with 1 Axes>"
      ]
     },
     "metadata": {},
     "output_type": "display_data"
    }
   ],
   "source": [
    "\n",
    "if 'df' in locals():\n",
    "    # Créer le diagramme en barres\n",
    "    plt.figure(figsize=(10, 6))\n",
    "    ax = sns.countplot(x='deja_teste_vih_cat', \n",
    "                       data=df, \n",
    "                       order=['Oui', 'Non'],\n",
    "                       palette=['#77dd77', '#ff6961'])\n",
    "    \n",
    "    # Ajouter les effectifs au-dessus des barres\n",
    "    for p in ax.patches:\n",
    "        ax.annotate(f'{p.get_height()}', \n",
    "                    (p.get_x() + p.get_width() / 2., p.get_height()), \n",
    "                    ha='center', va='center', \n",
    "                    xytext=(0, 9), \n",
    "                    textcoords='offset points')\n",
    "    \n",
    "    # Titres et labels\n",
    "    plt.title('Avoir déjà fait un test de dépistage du VIH', fontsize=16)\n",
    "    plt.xlabel('Réponse', fontsize=12)\n",
    "    plt.ylabel('Nombre de répondants', fontsize=12)\n",
    "    \n",
    "    # Afficher le graphique\n",
    "    plt.show()\n",
    "else:\n",
    "    print(\"Le DataFrame 'df' n'est pas chargé.\")\n"
   ]
  },
  {
   "cell_type": "markdown",
   "id": "beca2229",
   "metadata": {},
   "source": [
    "\n",
    "### 5.1.6. Synthèse de l'analyse des variables dépendantes\n",
    "\n",
    "Nous avons terminé l'exploration de nos cinq variables dépendantes. Voici un résumé de nos observations :\n",
    "\n",
    "1.  **`usage_preservatif`** : Une part importante de l'échantillon n'a pas utilisé de préservatif lors du dernier rapport, et un grand nombre n'était pas concerné par la question, probablement en raison de l'inactivité sexuelle récente.\n",
    "2.  **`connaissance_preservatif_vih`** : Le niveau de connaissance sur l'efficacité du préservatif est très élevé.\n",
    "3.  **`connaissance_transmission_sain`** : De même, la connaissance sur la transmission asymptomatique du VIH est très répandue.\n",
    "4.  **`a_eu_ist_12mois`** : La prévalence déclarée d'IST au cours de la dernière année est très faible dans notre échantillon.\n",
    "5.  **`deja_teste_vih`** : Le recours au dépistage du VIH reste minoritaire, avec une large majorité n'ayant jamais fait le test.\n",
    "\n",
    "Cette première analyse nous donne une image claire des comportements et des connaissances en matière de santé sexuelle dans notre population d'étude. Nous sommes maintenant prêts à explorer les facteurs qui pourraient influencer ces variables.\n"
   ]
  },
  {
   "cell_type": "markdown",
   "id": "602079fa",
   "metadata": {},
   "source": [
    "\n",
    "---\n",
    "## 5.2. Analyse des Variables Indépendantes\n",
    "\n",
    "Nous passons maintenant à l'analyse des variables indépendantes, qui sont au cœur de notre problématique. Celles-ci concernent directement le niveau d'éducation des répondants.\n",
    "\n",
    "### 5.2.1. Variable : `niveau_instruction`\n",
    "\n",
    "Le niveau d'instruction est notre principal facteur explicatif. Nous allons l'analyser en détail.\n",
    "\n",
    "**Étape 1 : Inspection**\n"
   ]
  },
  {
   "cell_type": "code",
   "execution_count": 27,
   "id": "16ffab6a",
   "metadata": {},
   "outputs": [
    {
     "name": "stdout",
     "output_type": "stream",
     "text": [
      "Distribution des valeurs brutes pour 'niveau_instruction' :\n"
     ]
    },
    {
     "data": {
      "application/vnd.microsoft.datawrangler.viewer.v0+json": {
       "columns": [
        {
         "name": "niveau_instruction",
         "rawType": "float64",
         "type": "float"
        },
        {
         "name": "count",
         "rawType": "int64",
         "type": "integer"
        }
       ],
       "ref": "0b47e4c4-69d6-4aa4-b0d2-5c65634081ef",
       "rows": [
        [
         "0.0",
         "466"
        ],
        [
         "2.0",
         "208"
        ],
        [
         "1.0",
         "149"
        ],
        [
         "3.0",
         "57"
        ]
       ],
       "shape": {
        "columns": 1,
        "rows": 4
       }
      },
      "text/plain": [
       "niveau_instruction\n",
       "0.0    466\n",
       "2.0    208\n",
       "1.0    149\n",
       "3.0     57\n",
       "Name: count, dtype: int64"
      ]
     },
     "metadata": {},
     "output_type": "display_data"
    },
    {
     "name": "stdout",
     "output_type": "stream",
     "text": [
      "\n",
      "Libellés pour 'mv106':\n",
      "  0: no education\n",
      "  1: primary\n",
      "  2: secondary\n",
      "  3: higher\n"
     ]
    }
   ],
   "source": [
    "\n",
    "if 'df' in locals():\n",
    "    print(\"Distribution des valeurs brutes pour 'niveau_instruction' :\")\n",
    "    display(df['niveau_instruction'].value_counts(dropna=False))\n",
    "    \n",
    "    # Afficher les libellés correspondants\n",
    "    variable_name_orig = 'mv106'\n",
    "    if 'meta' in locals() and variable_name_orig in meta.variable_value_labels:\n",
    "        print(f\"\\nLibellés pour '{variable_name_orig}':\")\n",
    "        for value, label in meta.variable_value_labels[variable_name_orig].items():\n",
    "            print(f\"  {int(value)}: {label}\")\n",
    "else:\n",
    "    print(\"Le DataFrame 'df' n'est pas chargé.\")\n"
   ]
  },
  {
   "cell_type": "markdown",
   "id": "16163db2",
   "metadata": {},
   "source": [
    "\n",
    "**Étape 1 (suite) : Interprétation**\n",
    "\n",
    "Les résultats de l'inspection sont les suivants :\n",
    "- **`0.0` (Aucune éducation)** : 466 répondants.\n",
    "- **`1.0` (Primaire)** : 149 répondants.\n",
    "- **`2.0` (Secondaire)** : 208 répondants.\n",
    "- **`3.0` (Supérieur)** : 57 répondants.\n",
    "- **`NaN` (Manquant)** : 0.\n",
    "\n",
    "**Analyse Statistique :**\n",
    "Le niveau d'instruction dans notre échantillon est très polarisé. Une majorité significative (466 sur 880, soit 53%) n'a reçu aucune éducation formelle. Le niveau secondaire représente le deuxième groupe le plus important (23,6%), suivi du primaire (16,9%) et du supérieur (6,5%). L'absence de valeurs manquantes est une excellente nouvelle pour la modélisation.\n",
    "\n",
    "**Stratégie de Traitement :**\n",
    "La variable est propre et ordinale. Nous allons la recoder avec des libellés clairs pour l'analyse et la visualisation.\n"
   ]
  },
  {
   "cell_type": "markdown",
   "id": "730b2223",
   "metadata": {},
   "source": [
    "\n",
    "**Étape 2 : Nettoyage et Recodage**\n"
   ]
  },
  {
   "cell_type": "code",
   "execution_count": 28,
   "id": "607c6908",
   "metadata": {},
   "outputs": [
    {
     "name": "stdout",
     "output_type": "stream",
     "text": [
      "Distribution de la variable recodée :\n"
     ]
    },
    {
     "data": {
      "application/vnd.microsoft.datawrangler.viewer.v0+json": {
       "columns": [
        {
         "name": "niveau_instruction_cat",
         "rawType": "object",
         "type": "string"
        },
        {
         "name": "count",
         "rawType": "int64",
         "type": "integer"
        }
       ],
       "ref": "ac65e534-ae20-45ed-ac37-ddfdeda401be",
       "rows": [
        [
         "Aucune",
         "466"
        ],
        [
         "Secondaire",
         "208"
        ],
        [
         "Primaire",
         "149"
        ],
        [
         "Supérieur",
         "57"
        ]
       ],
       "shape": {
        "columns": 1,
        "rows": 4
       }
      },
      "text/plain": [
       "niveau_instruction_cat\n",
       "Aucune        466\n",
       "Secondaire    208\n",
       "Primaire      149\n",
       "Supérieur      57\n",
       "Name: count, dtype: int64"
      ]
     },
     "metadata": {},
     "output_type": "display_data"
    }
   ],
   "source": [
    "\n",
    "if 'df' in locals():\n",
    "    # Définir le mapping\n",
    "    mapping_instruction = {\n",
    "        0.0: 'Aucune',\n",
    "        1.0: 'Primaire',\n",
    "        2.0: 'Secondaire',\n",
    "        3.0: 'Supérieur',\n",
    "        np.nan: 'Manquant'\n",
    "    }\n",
    "    \n",
    "    # Appliquer le mapping\n",
    "    df['niveau_instruction_cat'] = df['niveau_instruction'].map(mapping_instruction)\n",
    "    \n",
    "    print(\"Distribution de la variable recodée :\")\n",
    "    display(df['niveau_instruction_cat'].value_counts())\n",
    "else:\n",
    "    print(\"Le DataFrame 'df' n'est pas chargé.\")\n"
   ]
  },
  {
   "cell_type": "markdown",
   "id": "3bb85ed2",
   "metadata": {},
   "source": [
    "\n",
    "**Étape 3 : Visualisation**\n"
   ]
  },
  {
   "cell_type": "code",
   "execution_count": 30,
   "id": "e16c01c3",
   "metadata": {},
   "outputs": [
    {
     "name": "stderr",
     "output_type": "stream",
     "text": [
      "/tmp/ipykernel_53031/3662687991.py:7: FutureWarning: \n",
      "\n",
      "Passing `palette` without assigning `hue` is deprecated and will be removed in v0.14.0. Assign the `x` variable to `hue` and set `legend=False` for the same effect.\n",
      "\n",
      "  ax = sns.countplot(x='niveau_instruction_cat',\n"
     ]
    },
    {
     "data": {
      "image/png": "[encoded data removed]",
      "text/plain": [
       "<Figure size 1200x700 with 1 Axes>"
      ]
     },
     "metadata": {},
     "output_type": "display_data"
    }
   ],
   "source": [
    "\n",
    "if 'df' in locals():\n",
    "    # Définir l'ordre des catégories\n",
    "    order = ['Aucune', 'Primaire', 'Secondaire', 'Supérieur']\n",
    "    \n",
    "    # Créer le diagramme en barres\n",
    "    plt.figure(figsize=(12, 7))\n",
    "    ax = sns.countplot(x='niveau_instruction_cat', \n",
    "                       data=df, \n",
    "                       order=order,\n",
    "                       palette='viridis')\n",
    "    \n",
    "    # Ajouter les effectifs au-dessus des barres\n",
    "    for p in ax.patches:\n",
    "        ax.annotate(f'{p.get_height()}', \n",
    "                    (p.get_x() + p.get_width() / 2., p.get_height()), \n",
    "                    ha='center', va='center', \n",
    "                    xytext=(0, 9), \n",
    "                    textcoords='offset points')\n",
    "    \n",
    "    # Titres et labels\n",
    "    plt.title('Répartition des répondants par niveau d\\'instruction', fontsize=16)\n",
    "    plt.xlabel('Niveau d\\'instruction', fontsize=12)\n",
    "    plt.ylabel('Nombre de répondants', fontsize=12)\n",
    "    \n",
    "    # Afficher le graphique\n",
    "    plt.show()\n",
    "else:\n",
    "    print(\"Le DataFrame 'df' n'est pas chargé.\")\n"
   ]
  },
  {
   "cell_type": "markdown",
   "id": "c1ad6f0a",
   "metadata": {},
   "source": [
    "\n",
    "---\n",
    "### 5.2.2. Variable : `annees_education`\n",
    "\n",
    "Cette variable numérique complète la précédente en donnant le nombre d'années d'études.\n",
    "\n",
    "**Étape 1 : Inspection**\n"
   ]
  },
  {
   "cell_type": "code",
   "execution_count": 36,
   "id": "1b21c1bd",
   "metadata": {},
   "outputs": [
    {
     "name": "stdout",
     "output_type": "stream",
     "text": [
      "Description statistique de 'annees_education' :\n"
     ]
    },
    {
     "data": {
      "application/vnd.microsoft.datawrangler.viewer.v0+json": {
       "columns": [
        {
         "name": "index",
         "rawType": "object",
         "type": "string"
        },
        {
         "name": "annees_education",
         "rawType": "float64",
         "type": "float"
        }
       ],
       "ref": "76eb1dc6-cb0d-48ad-8850-f0a1ef6ac753",
       "rows": [
        [
         "count",
         "880.0"
        ],
        [
         "mean",
         "4.014772727272727"
        ],
        [
         "std",
         "5.570604625911936"
        ],
        [
         "min",
         "0.0"
        ],
        [
         "25%",
         "0.0"
        ],
        [
         "50%",
         "0.0"
        ],
        [
         "75%",
         "7.0"
        ],
        [
         "max",
         "21.0"
        ]
       ],
       "shape": {
        "columns": 1,
        "rows": 8
       }
      },
      "text/plain": [
       "count    880.000000\n",
       "mean       4.014773\n",
       "std        5.570605\n",
       "min        0.000000\n",
       "25%        0.000000\n",
       "50%        0.000000\n",
       "75%        7.000000\n",
       "max       21.000000\n",
       "Name: annees_education, dtype: float64"
      ]
     },
     "metadata": {},
     "output_type": "display_data"
    },
    {
     "name": "stdout",
     "output_type": "stream",
     "text": [
      "\n",
      "Distribution des fréquences pour 'annees_education' :\n"
     ]
    },
    {
     "data": {
      "application/vnd.microsoft.datawrangler.viewer.v0+json": {
       "columns": [
        {
         "name": "annees_education",
         "rawType": "float64",
         "type": "float"
        },
        {
         "name": "count",
         "rawType": "int64",
         "type": "integer"
        }
       ],
       "ref": "6636a29f-4c71-4766-a936-50cdd84e6552",
       "rows": [
        [
         "0.0",
         "469"
        ],
        [
         "1.0",
         "10"
        ],
        [
         "2.0",
         "31"
        ],
        [
         "3.0",
         "25"
        ],
        [
         "4.0",
         "19"
        ],
        [
         "5.0",
         "45"
        ],
        [
         "6.0",
         "28"
        ],
        [
         "7.0",
         "36"
        ],
        [
         "8.0",
         "40"
        ],
        [
         "9.0",
         "46"
        ],
        [
         "10.0",
         "21"
        ],
        [
         "11.0",
         "17"
        ],
        [
         "12.0",
         "27"
        ],
        [
         "13.0",
         "9"
        ],
        [
         "17.0",
         "5"
        ],
        [
         "18.0",
         "15"
        ],
        [
         "19.0",
         "13"
        ],
        [
         "20.0",
         "13"
        ],
        [
         "21.0",
         "11"
        ]
       ],
       "shape": {
        "columns": 1,
        "rows": 19
       }
      },
      "text/plain": [
       "annees_education\n",
       "0.0     469\n",
       "1.0      10\n",
       "2.0      31\n",
       "3.0      25\n",
       "4.0      19\n",
       "5.0      45\n",
       "6.0      28\n",
       "7.0      36\n",
       "8.0      40\n",
       "9.0      46\n",
       "10.0     21\n",
       "11.0     17\n",
       "12.0     27\n",
       "13.0      9\n",
       "17.0      5\n",
       "18.0     15\n",
       "19.0     13\n",
       "20.0     13\n",
       "21.0     11\n",
       "Name: count, dtype: int64"
      ]
     },
     "metadata": {},
     "output_type": "display_data"
    }
   ],
   "source": [
    "\n",
    "if 'df' in locals():\n",
    "    print(\"Description statistique de 'annees_education' :\")\n",
    "    display(df['annees_education'].describe())\n",
    "    \n",
    "    print(\"\\nDistribution des fréquences pour 'annees_education' :\")\n",
    "    display(df['annees_education'].value_counts(dropna=False).sort_index())\n",
    "else:\n",
    "    print(\"Le DataFrame 'df' n'est pas chargé.\")\n"
   ]
  },
  {
   "cell_type": "markdown",
   "id": "285159d3",
   "metadata": {},
   "source": [
    "\n",
    "**Étape 1 (suite) : Interprétation**\n",
    "\n",
    "L'analyse de la variable `annees_education` confirme ce que nous avons vu avec `niveau_instruction` :\n",
    "- **Moyenne de 4 ans d'études**, mais fortement influencée par les valeurs extrêmes (jusqu'à 21 ans).\n",
    "- **Médiane à 0**, ce qui est très parlant : au moins 50% de notre échantillon n'a aucune année d'éducation formelle.\n",
    "- **Forte concentration à 0 an** (469 personnes), ce qui créera une distribution très asymétrique.\n",
    "\n",
    "**Stratégie de Traitement :**\n",
    "Cette variable est numérique et peut être utilisée directement dans certains modèles. Pour la visualisation et l'analyse descriptive, un histogramme nous permettra de bien voir sa distribution.\n",
    "\n",
    "**Étape 2 : Visualisation**\n"
   ]
  },
  {
   "cell_type": "code",
   "execution_count": 38,
   "id": "04f99f99",
   "metadata": {},
   "outputs": [
    {
     "data": {
      "image/png": "[encoded data removed]",
      "text/plain": [
       "<Figure size 1400x700 with 1 Axes>"
      ]
     },
     "metadata": {},
     "output_type": "display_data"
    }
   ],
   "source": [
    "\n",
    "if 'df' in locals():\n",
    "    plt.figure(figsize=(14, 7))\n",
    "    sns.histplot(df['annees_education'], bins=22, kde=False, color='skyblue')\n",
    "    plt.title('Distribution du nombre d\\'années d\\'éducation', fontsize=16)\n",
    "    plt.xlabel('Nombre d\\'années d\\'éducation', fontsize=12)\n",
    "    plt.ylabel('Nombre de répondants', fontsize=12)\n",
    "    plt.xticks(range(0, 22))\n",
    "    plt.grid(axis='y', alpha=0.75)\n",
    "    plt.show()\n",
    "else:\n",
    "    print(\"Le DataFrame 'df' n'est pas chargé.\")\n"
   ]
  },
  {
   "cell_type": "markdown",
   "id": "487c8dee",
   "metadata": {},
   "source": [
    "\n",
    "---\n",
    "### 5.2.3. Variable : `alphabetisation`\n",
    "\n",
    "Cette variable mesure la capacité à lire et écrire, ce qui est une compétence fonctionnelle clé, parfois décorrélée du niveau d'instruction formel.\n",
    "\n",
    "**Étape 1 : Inspection**\n"
   ]
  },
  {
   "cell_type": "code",
   "execution_count": 37,
   "id": "a6d9d152",
   "metadata": {},
   "outputs": [
    {
     "name": "stdout",
     "output_type": "stream",
     "text": [
      "Distribution des valeurs brutes pour 'alphabetisation' :\n"
     ]
    },
    {
     "data": {
      "application/vnd.microsoft.datawrangler.viewer.v0+json": {
       "columns": [
        {
         "name": "alphabetisation",
         "rawType": "float64",
         "type": "float"
        },
        {
         "name": "count",
         "rawType": "int64",
         "type": "integer"
        }
       ],
       "ref": "e99dfd42-7053-446d-874c-c4e1cb39405b",
       "rows": [
        [
         "0.0",
         "516"
        ],
        [
         "2.0",
         "219"
        ],
        [
         "1.0",
         "63"
        ],
        [
         null,
         "57"
        ],
        [
         "3.0",
         "24"
        ],
        [
         "4.0",
         "1"
        ]
       ],
       "shape": {
        "columns": 1,
        "rows": 6
       }
      },
      "text/plain": [
       "alphabetisation\n",
       "0.0    516\n",
       "2.0    219\n",
       "1.0     63\n",
       "NaN     57\n",
       "3.0     24\n",
       "4.0      1\n",
       "Name: count, dtype: int64"
      ]
     },
     "metadata": {},
     "output_type": "display_data"
    },
    {
     "name": "stdout",
     "output_type": "stream",
     "text": [
      "\n",
      "Libellés pour 'mv155':\n",
      "  0: cannot read at all\n",
      "  1: able to read only parts of sentence\n",
      "  2: able to read whole sentence\n",
      "  3: no card with required language\n",
      "  4: blind/visually impaired\n"
     ]
    }
   ],
   "source": [
    "\n",
    "if 'df' in locals():\n",
    "    print(\"Distribution des valeurs brutes pour 'alphabetisation' :\")\n",
    "    display(df['alphabetisation'].value_counts(dropna=False))\n",
    "    \n",
    "    # Afficher les libellés correspondants\n",
    "    variable_name_orig = 'mv155'\n",
    "    if 'meta' in locals() and variable_name_orig in meta.variable_value_labels:\n",
    "        print(f\"\\nLibellés pour '{variable_name_orig}':\")\n",
    "        for value, label in meta.variable_value_labels[variable_name_orig].items():\n",
    "            print(f\"  {int(value)}: {label}\")\n",
    "else:\n",
    "    print(\"Le DataFrame 'df' n'est pas chargé.\")\n"
   ]
  },
  {
   "cell_type": "markdown",
   "id": "f9e9850d",
   "metadata": {},
   "source": [
    "\n",
    "**Étape 1 (suite) : Interprétation**\n",
    "\n",
    "L'alphabétisation présente plusieurs catégories :\n",
    "- **`0.0` (Ne sait pas lire)** : 516 personnes (la majorité).\n",
    "- **`2.0` (Sait lire une phrase entière)** : 219 personnes.\n",
    "- **`1.0` (Sait lire une partie de phrase)** : 63 personnes.\n",
    "- **`NaN` (Manquant)** : 57 personnes.\n",
    "- **`3.0` (Pas de carte dans la langue requise)** : 24 personnes.\n",
    "- **`4.0` (Aveugle/Malvoyant)** : 1 personne.\n",
    "\n",
    "**Stratégie de Traitement :**\n",
    "Pour simplifier l'analyse, nous allons regrouper ces catégories.\n",
    "- Les catégories `1.0` et `2.0` peuvent être combinées en \"Sait lire\".\n",
    "- La catégorie `0.0` reste \"Ne sait pas lire\".\n",
    "- Les catégories `3.0`, `4.0` et `NaN` sont des cas particuliers ou des données manquantes. Nous les regrouperons en \"Autre / Manquant\".\n",
    "\n",
    "**Étape 2 : Nettoyage et Recodage**\n"
   ]
  },
  {
   "cell_type": "code",
   "execution_count": 39,
   "id": "272d5a28",
   "metadata": {},
   "outputs": [
    {
     "name": "stdout",
     "output_type": "stream",
     "text": [
      "Distribution de la variable recodée :\n"
     ]
    },
    {
     "data": {
      "application/vnd.microsoft.datawrangler.viewer.v0+json": {
       "columns": [
        {
         "name": "alphabetisation_cat",
         "rawType": "object",
         "type": "string"
        },
        {
         "name": "count",
         "rawType": "int64",
         "type": "integer"
        }
       ],
       "ref": "09c51e77-4983-4d31-8a53-aefee753c22b",
       "rows": [
        [
         "Ne sait pas lire",
         "516"
        ],
        [
         "Sait lire",
         "282"
        ],
        [
         "Autre / Manquant",
         "82"
        ]
       ],
       "shape": {
        "columns": 1,
        "rows": 3
       }
      },
      "text/plain": [
       "alphabetisation_cat\n",
       "Ne sait pas lire    516\n",
       "Sait lire           282\n",
       "Autre / Manquant     82\n",
       "Name: count, dtype: int64"
      ]
     },
     "metadata": {},
     "output_type": "display_data"
    }
   ],
   "source": [
    "\n",
    "if 'df' in locals():\n",
    "    # Définir le mapping\n",
    "    mapping_alpha = {\n",
    "        0.0: 'Ne sait pas lire',\n",
    "        1.0: 'Sait lire',\n",
    "        2.0: 'Sait lire',\n",
    "        3.0: 'Autre / Manquant',\n",
    "        4.0: 'Autre / Manquant',\n",
    "        np.nan: 'Autre / Manquant'\n",
    "    }\n",
    "    \n",
    "    # Appliquer le mapping\n",
    "    df['alphabetisation_cat'] = df['alphabetisation'].map(mapping_alpha)\n",
    "    \n",
    "    print(\"Distribution de la variable recodée :\")\n",
    "    display(df['alphabetisation_cat'].value_counts())\n",
    "else:\n",
    "    print(\"Le DataFrame 'df' n'est pas chargé.\")\n"
   ]
  },
  {
   "cell_type": "markdown",
   "id": "3d570401",
   "metadata": {},
   "source": [
    "\n",
    "**Étape 3 : Visualisation**\n"
   ]
  },
  {
   "cell_type": "code",
   "execution_count": 40,
   "id": "3ac0b0ec",
   "metadata": {},
   "outputs": [
    {
     "name": "stderr",
     "output_type": "stream",
     "text": [
      "/tmp/ipykernel_53031/2209457728.py:4: FutureWarning: \n",
      "\n",
      "Passing `palette` without assigning `hue` is deprecated and will be removed in v0.14.0. Assign the `x` variable to `hue` and set `legend=False` for the same effect.\n",
      "\n",
      "  ax = sns.countplot(x='alphabetisation_cat', data=df, order=order, palette='magma')\n"
     ]
    },
    {
     "data": {
      "image/png": "[encoded data removed]",
      "text/plain": [
       "<Figure size 1000x600 with 1 Axes>"
      ]
     },
     "metadata": {},
     "output_type": "display_data"
    }
   ],
   "source": [
    "\n",
    "if 'df' in locals():\n",
    "    order = ['Sait lire', 'Ne sait pas lire', 'Autre / Manquant']\n",
    "    plt.figure(figsize=(10, 6))\n",
    "    ax = sns.countplot(x='alphabetisation_cat', data=df, order=order, palette='magma')\n",
    "    \n",
    "    for p in ax.patches:\n",
    "        ax.annotate(f'{p.get_height()}', (p.get_x() + p.get_width() / 2., p.get_height()),\n",
    "                    ha='center', va='center', xytext=(0, 9), textcoords='offset points')\n",
    "        \n",
    "    plt.title('Répartition des répondants par niveau d\\'alphabétisation', fontsize=16)\n",
    "    plt.xlabel('Alphabétisation', fontsize=12)\n",
    "    plt.ylabel('Nombre de répondants', fontsize=12)\n",
    "    plt.show()\n",
    "else:\n",
    "    print(\"Le DataFrame 'df' n'est pas chargé.\")\n"
   ]
  },
  {
   "cell_type": "markdown",
   "id": "24ad190f",
   "metadata": {},
   "source": [
    "\n",
    "---\n",
    "## 5.3. Analyse des Variables de Contrôle\n",
    "\n",
    "Nous analysons maintenant les variables socio-démographiques qui ne sont pas directement liées à l'éducation mais qui pourraient influencer la relation entre l'éducation et les comportements de santé.\n",
    "\n",
    "### 5.3.1. Variable : `age`\n",
    "\n",
    "L'âge est un facteur démographique fondamental.\n",
    "\n",
    "**Étape 1 : Inspection**\n"
   ]
  },
  {
   "cell_type": "code",
   "execution_count": 35,
   "id": "aa0382e2",
   "metadata": {},
   "outputs": [
    {
     "name": "stdout",
     "output_type": "stream",
     "text": [
      "Distribution des valeurs brutes pour 'age' :\n"
     ]
    },
    {
     "data": {
      "application/vnd.microsoft.datawrangler.viewer.v0+json": {
       "columns": [
        {
         "name": "index",
         "rawType": "object",
         "type": "string"
        },
        {
         "name": "age",
         "rawType": "float64",
         "type": "float"
        }
       ],
       "ref": "df5593a7-ef63-4d4c-b302-c4327b59b009",
       "rows": [
        [
         "count",
         "880.0"
        ],
        [
         "mean",
         "31.445454545454545"
        ],
        [
         "std",
         "12.00205622401022"
        ],
        [
         "min",
         "15.0"
        ],
        [
         "25%",
         "22.0"
        ],
        [
         "50%",
         "29.0"
        ],
        [
         "75%",
         "40.0"
        ],
        [
         "max",
         "64.0"
        ]
       ],
       "shape": {
        "columns": 1,
        "rows": 8
       }
      },
      "text/plain": [
       "count    880.000000\n",
       "mean      31.445455\n",
       "std       12.002056\n",
       "min       15.000000\n",
       "25%       22.000000\n",
       "50%       29.000000\n",
       "75%       40.000000\n",
       "max       64.000000\n",
       "Name: age, dtype: float64"
      ]
     },
     "metadata": {},
     "output_type": "display_data"
    },
    {
     "name": "stdout",
     "output_type": "stream",
     "text": [
      "\n",
      "Distribution des fréquences pour 'age' :\n"
     ]
    },
    {
     "data": {
      "application/vnd.microsoft.datawrangler.viewer.v0+json": {
       "columns": [
        {
         "name": "age",
         "rawType": "float64",
         "type": "float"
        },
        {
         "name": "count",
         "rawType": "int64",
         "type": "integer"
        }
       ],
       "ref": "11f6fe79-172b-42d7-bf24-16a5e6916acd",
       "rows": [
        [
         "15.0",
         "37"
        ],
        [
         "16.0",
         "28"
        ],
        [
         "17.0",
         "26"
        ],
        [
         "18.0",
         "32"
        ],
        [
         "19.0",
         "33"
        ],
        [
         "20.0",
         "41"
        ],
        [
         "21.0",
         "20"
        ],
        [
         "22.0",
         "33"
        ],
        [
         "23.0",
         "26"
        ],
        [
         "24.0",
         "18"
        ],
        [
         "25.0",
         "49"
        ],
        [
         "26.0",
         "25"
        ],
        [
         "27.0",
         "24"
        ],
        [
         "28.0",
         "27"
        ],
        [
         "29.0",
         "24"
        ],
        [
         "30.0",
         "33"
        ],
        [
         "31.0",
         "20"
        ],
        [
         "32.0",
         "21"
        ],
        [
         "33.0",
         "20"
        ],
        [
         "34.0",
         "13"
        ],
        [
         "35.0",
         "39"
        ],
        [
         "36.0",
         "10"
        ],
        [
         "37.0",
         "31"
        ],
        [
         "38.0",
         "21"
        ],
        [
         "39.0",
         "6"
        ],
        [
         "40.0",
         "25"
        ],
        [
         "41.0",
         "14"
        ],
        [
         "42.0",
         "16"
        ],
        [
         "43.0",
         "19"
        ],
        [
         "44.0",
         "8"
        ],
        [
         "45.0",
         "16"
        ],
        [
         "46.0",
         "5"
        ],
        [
         "47.0",
         "19"
        ],
        [
         "48.0",
         "13"
        ],
        [
         "49.0",
         "6"
        ],
        [
         "50.0",
         "11"
        ],
        [
         "51.0",
         "4"
        ],
        [
         "52.0",
         "7"
        ],
        [
         "53.0",
         "6"
        ],
        [
         "54.0",
         "4"
        ],
        [
         "55.0",
         "11"
        ],
        [
         "56.0",
         "3"
        ],
        [
         "57.0",
         "4"
        ],
        [
         "58.0",
         "5"
        ],
        [
         "59.0",
         "6"
        ],
        [
         "60.0",
         "7"
        ],
        [
         "61.0",
         "4"
        ],
        [
         "62.0",
         "3"
        ],
        [
         "63.0",
         "6"
        ],
        [
         "64.0",
         "1"
        ]
       ],
       "shape": {
        "columns": 1,
        "rows": 50
       }
      },
      "text/plain": [
       "age\n",
       "15.0    37\n",
       "16.0    28\n",
       "17.0    26\n",
       "18.0    32\n",
       "19.0    33\n",
       "20.0    41\n",
       "21.0    20\n",
       "22.0    33\n",
       "23.0    26\n",
       "24.0    18\n",
       "25.0    49\n",
       "26.0    25\n",
       "27.0    24\n",
       "28.0    27\n",
       "29.0    24\n",
       "30.0    33\n",
       "31.0    20\n",
       "32.0    21\n",
       "33.0    20\n",
       "34.0    13\n",
       "35.0    39\n",
       "36.0    10\n",
       "37.0    31\n",
       "38.0    21\n",
       "39.0     6\n",
       "40.0    25\n",
       "41.0    14\n",
       "42.0    16\n",
       "43.0    19\n",
       "44.0     8\n",
       "45.0    16\n",
       "46.0     5\n",
       "47.0    19\n",
       "48.0    13\n",
       "49.0     6\n",
       "50.0    11\n",
       "51.0     4\n",
       "52.0     7\n",
       "53.0     6\n",
       "54.0     4\n",
       "55.0    11\n",
       "56.0     3\n",
       "57.0     4\n",
       "58.0     5\n",
       "59.0     6\n",
       "60.0     7\n",
       "61.0     4\n",
       "62.0     3\n",
       "63.0     6\n",
       "64.0     1\n",
       "Name: count, dtype: int64"
      ]
     },
     "metadata": {},
     "output_type": "display_data"
    }
   ],
   "source": [
    "\n",
    "if 'df' in locals():\n",
    "    print(\"Distribution des valeurs brutes pour 'age' :\")\n",
    "    display(df['age'].describe())\n",
    "    \n",
    "    print(\"\\nDistribution des fréquences pour 'age' :\")\n",
    "    display(df['age'].value_counts(dropna=False).sort_index())\n",
    "else:\n",
    "    print(\"Le DataFrame 'df' n'est pas chargé.\")\n"
   ]
  },
  {
   "cell_type": "markdown",
   "id": "2d1caca2",
   "metadata": {},
   "source": [
    "\n",
    "**Étape 1 (suite) : Interprétation**\n",
    "\n",
    "L'âge des répondants s'étend de 15 à 64 ans, avec une moyenne autour de 31 ans. La distribution est assez large, ce qui justifie de la regrouper en catégories pour l'analyse.\n",
    "\n",
    "**Stratégie de Traitement :**\n",
    "Nous allons créer une variable catégorielle `age_cat` en découpant l'âge en tranches. Des groupes standards pour ce type d'enquête sont pertinents :\n",
    "-   15-24 ans (Jeunes)\n",
    "-   25-34 ans (Jeunes Adultes)\n",
    "-   35-49 ans (Adultes)\n",
    "-   50 ans et plus (Adultes plus âgés)\n",
    "\n",
    "**Étape 2 : Nettoyage et Recodage**\n"
   ]
  },
  {
   "cell_type": "code",
   "execution_count": 41,
   "id": "fea7f824",
   "metadata": {},
   "outputs": [
    {
     "name": "stdout",
     "output_type": "stream",
     "text": [
      "Distribution de la variable d'âge recodée :\n"
     ]
    },
    {
     "data": {
      "application/vnd.microsoft.datawrangler.viewer.v0+json": {
       "columns": [
        {
         "name": "age_cat",
         "rawType": "category",
         "type": "unknown"
        },
        {
         "name": "count",
         "rawType": "int64",
         "type": "integer"
        }
       ],
       "ref": "fcdf2817-232e-4e1a-b356-d75ff5ffd77d",
       "rows": [
        [
         "15-24 ans",
         "294"
        ],
        [
         "25-34 ans",
         "256"
        ],
        [
         "35-49 ans",
         "248"
        ],
        [
         "50 ans et plus",
         "82"
        ]
       ],
       "shape": {
        "columns": 1,
        "rows": 4
       }
      },
      "text/plain": [
       "age_cat\n",
       "15-24 ans         294\n",
       "25-34 ans         256\n",
       "35-49 ans         248\n",
       "50 ans et plus     82\n",
       "Name: count, dtype: int64"
      ]
     },
     "metadata": {},
     "output_type": "display_data"
    }
   ],
   "source": [
    "\n",
    "if 'df' in locals():\n",
    "    # Définir les bornes et les libellés\n",
    "    bins = [14, 24, 34, 49, 100]\n",
    "    labels = ['15-24 ans', '25-34 ans', '35-49 ans', '50 ans et plus']\n",
    "    \n",
    "    # Créer la nouvelle variable\n",
    "    df['age_cat'] = pd.cut(df['age'], bins=bins, labels=labels, right=True)\n",
    "    \n",
    "    print(\"Distribution de la variable d'âge recodée :\")\n",
    "    display(df['age_cat'].value_counts())\n",
    "else:\n",
    "    print(\"Le DataFrame 'df' n'est pas chargé.\")\n"
   ]
  },
  {
   "cell_type": "markdown",
   "id": "273456c4",
   "metadata": {},
   "source": [
    "\n",
    "**Étape 3 : Visualisation**\n"
   ]
  },
  {
   "cell_type": "code",
   "execution_count": 42,
   "id": "5c768c8a",
   "metadata": {},
   "outputs": [
    {
     "name": "stderr",
     "output_type": "stream",
     "text": [
      "/tmp/ipykernel_53031/1867730329.py:4: FutureWarning: \n",
      "\n",
      "Passing `palette` without assigning `hue` is deprecated and will be removed in v0.14.0. Assign the `x` variable to `hue` and set `legend=False` for the same effect.\n",
      "\n",
      "  ax = sns.countplot(x='age_cat', data=df, order=order, palette='plasma')\n"
     ]
    },
    {
     "data": {
      "image/png": "[encoded data removed]",
      "text/plain": [
       "<Figure size 1200x700 with 1 Axes>"
      ]
     },
     "metadata": {},
     "output_type": "display_data"
    }
   ],
   "source": [
    "\n",
    "if 'df' in locals():\n",
    "    order = ['15-24 ans', '25-34 ans', '35-49 ans', '50 ans et plus']\n",
    "    plt.figure(figsize=(12, 7))\n",
    "    ax = sns.countplot(x='age_cat', data=df, order=order, palette='plasma')\n",
    "    \n",
    "    for p in ax.patches:\n",
    "        ax.annotate(f'{p.get_height()}', (p.get_x() + p.get_width() / 2., p.get_height()),\n",
    "                    ha='center', va='center', xytext=(0, 9), textcoords='offset points')\n",
    "        \n",
    "    plt.title('Répartition des répondants par groupe d\\'âge', fontsize=16)\n",
    "    plt.xlabel('Groupe d\\'âge', fontsize=12)\n",
    "    plt.ylabel('Nombre de répondants', fontsize=12)\n",
    "    plt.show()\n",
    "else:\n",
    "    print(\"Le DataFrame 'df' n'est pas chargé.\")\n"
   ]
  },
  {
   "cell_type": "markdown",
   "id": "5f16039a",
   "metadata": {},
   "source": [
    "\n",
    "---\n",
    "### 5.3.2. Inspection Groupée des Autres Variables de Contrôle\n",
    "\n",
    "Pour être plus efficaces, nous allons inspecter les variables de contrôle restantes en une seule fois.\n"
   ]
  },
  {
   "cell_type": "code",
   "execution_count": 43,
   "id": "cac50614",
   "metadata": {},
   "outputs": [
    {
     "name": "stdout",
     "output_type": "stream",
     "text": [
      "Distribution des valeurs brutes pour 'milieu_residence' :\n"
     ]
    },
    {
     "data": {
      "application/vnd.microsoft.datawrangler.viewer.v0+json": {
       "columns": [
        {
         "name": "milieu_residence",
         "rawType": "float64",
         "type": "float"
        },
        {
         "name": "count",
         "rawType": "int64",
         "type": "integer"
        }
       ],
       "ref": "ff23d74b-7654-407b-aa65-dcb418695ef0",
       "rows": [
        [
         "2.0",
         "487"
        ],
        [
         "1.0",
         "393"
        ]
       ],
       "shape": {
        "columns": 1,
        "rows": 2
       }
      },
      "text/plain": [
       "milieu_residence\n",
       "2.0    487\n",
       "1.0    393\n",
       "Name: count, dtype: int64"
      ]
     },
     "metadata": {},
     "output_type": "display_data"
    },
    {
     "name": "stdout",
     "output_type": "stream",
     "text": [
      "\n",
      "Libellés pour 'mv025':\n",
      "  1: urban\n",
      "  2: rural\n"
     ]
    }
   ],
   "source": [
    "\n",
    "if 'df' in locals():\n",
    "    print(\"Distribution des valeurs brutes pour 'milieu_residence' :\")\n",
    "    display(df['milieu_residence'].value_counts(dropna=False))\n",
    "    \n",
    "    # Afficher les libellés correspondants\n",
    "    variable_name_orig = 'mv025'\n",
    "    if 'meta' in locals() and variable_name_orig in meta.variable_value_labels:\n",
    "        print(f\"\\nLibellés pour '{variable_name_orig}':\")\n",
    "        for value, label in meta.variable_value_labels[variable_name_orig].items():\n",
    "            print(f\"  {int(value)}: {label}\")\n",
    "else:\n",
    "    print(\"Le DataFrame 'df' n'est pas chargé.\")\n"
   ]
  },
  {
   "cell_type": "markdown",
   "id": "bffa2cc3",
   "metadata": {},
   "source": [
    "\n",
    "**Étape 1 (suite) : Interprétation**\n",
    "\n",
    "La variable est propre et ne contient que deux catégories :\n",
    "- **`1.0` (Urbain)** : 393 répondants.\n",
    "- **`2.0` (Rural)** : 487 répondants.\n",
    "\n",
    "Il y a une légère prédominance du milieu rural dans notre échantillon du Borgou, ce qui est cohérent avec la démographie de la région.\n",
    "\n",
    "**Stratégie de Traitement :**\n",
    "La variable est prête à l'emploi. Nous allons simplement la recoder avec des libellés clairs pour la visualisation.\n",
    "\n",
    "**Étape 2 : Nettoyage et Recodage**\n"
   ]
  },
  {
   "cell_type": "code",
   "execution_count": 44,
   "id": "57deeec4",
   "metadata": {},
   "outputs": [
    {
     "name": "stdout",
     "output_type": "stream",
     "text": [
      "Distribution de la variable recodée :\n"
     ]
    },
    {
     "data": {
      "application/vnd.microsoft.datawrangler.viewer.v0+json": {
       "columns": [
        {
         "name": "milieu_residence_cat",
         "rawType": "object",
         "type": "string"
        },
        {
         "name": "count",
         "rawType": "int64",
         "type": "integer"
        }
       ],
       "ref": "3b3d12db-2ced-4b5e-b9bd-33104f2e069d",
       "rows": [
        [
         "Rural",
         "487"
        ],
        [
         "Urbain",
         "393"
        ]
       ],
       "shape": {
        "columns": 1,
        "rows": 2
       }
      },
      "text/plain": [
       "milieu_residence_cat\n",
       "Rural     487\n",
       "Urbain    393\n",
       "Name: count, dtype: int64"
      ]
     },
     "metadata": {},
     "output_type": "display_data"
    }
   ],
   "source": [
    "\n",
    "if 'df' in locals():\n",
    "    # Définir le mapping\n",
    "    mapping_milieu = {\n",
    "        1.0: 'Urbain',\n",
    "        2.0: 'Rural'\n",
    "    }\n",
    "    \n",
    "    # Créer la nouvelle variable\n",
    "    df['milieu_residence_cat'] = df['milieu_residence'].map(mapping_milieu)\n",
    "    \n",
    "    print(\"Distribution de la variable recodée :\")\n",
    "    display(df['milieu_residence_cat'].value_counts())\n",
    "else:\n",
    "    print(\"Le DataFrame 'df' n'est pas chargé.\")\n"
   ]
  },
  {
   "cell_type": "markdown",
   "id": "d736f691",
   "metadata": {},
   "source": [
    "\n",
    "**Étape 3 : Visualisation**\n"
   ]
  },
  {
   "cell_type": "code",
   "execution_count": 45,
   "id": "c7cdbb52",
   "metadata": {},
   "outputs": [
    {
     "name": "stderr",
     "output_type": "stream",
     "text": [
      "/tmp/ipykernel_53031/4130741902.py:3: FutureWarning: \n",
      "\n",
      "Passing `palette` without assigning `hue` is deprecated and will be removed in v0.14.0. Assign the `x` variable to `hue` and set `legend=False` for the same effect.\n",
      "\n",
      "  ax = sns.countplot(x='milieu_residence_cat', data=df, palette='coolwarm')\n"
     ]
    },
    {
     "data": {
      "image/png": "[encoded data removed]",
      "text/plain": [
       "<Figure size 800x600 with 1 Axes>"
      ]
     },
     "metadata": {},
     "output_type": "display_data"
    }
   ],
   "source": [
    "\n",
    "if 'df' in locals():\n",
    "    plt.figure(figsize=(8, 6))\n",
    "    ax = sns.countplot(x='milieu_residence_cat', data=df, palette='coolwarm')\n",
    "    \n",
    "    for p in ax.patches:\n",
    "        ax.annotate(f'{p.get_height()}', (p.get_x() + p.get_width() / 2., p.get_height()),\n",
    "                    ha='center', va='center', xytext=(0, 9), textcoords='offset points')\n",
    "        \n",
    "    plt.title('Répartition des répondants par milieu de résidence', fontsize=16)\n",
    "    plt.xlabel('Milieu de résidence', fontsize=12)\n",
    "    plt.ylabel('Nombre de répondants', fontsize=12)\n",
    "    plt.show()\n",
    "else:\n",
    "    print(\"Le DataFrame 'df' n'est pas chargé.\")\n"
   ]
  },
  {
   "cell_type": "code",
   "execution_count": 46,
   "id": "eaa05fa5",
   "metadata": {},
   "outputs": [
    {
     "name": "stdout",
     "output_type": "stream",
     "text": [
      "--- Variable : statut_marital ---\n"
     ]
    },
    {
     "data": {
      "application/vnd.microsoft.datawrangler.viewer.v0+json": {
       "columns": [
        {
         "name": "statut_marital",
         "rawType": "float64",
         "type": "float"
        },
        {
         "name": "count",
         "rawType": "int64",
         "type": "integer"
        }
       ],
       "ref": "48be1d7c-f372-4584-8eb5-60cfb69baa3b",
       "rows": [
        [
         "1.0",
         "546"
        ],
        [
         "0.0",
         "301"
        ],
        [
         "2.0",
         "17"
        ],
        [
         "4.0",
         "7"
        ],
        [
         "5.0",
         "7"
        ],
        [
         "3.0",
         "2"
        ]
       ],
       "shape": {
        "columns": 1,
        "rows": 6
       }
      },
      "text/plain": [
       "statut_marital\n",
       "1.0    546\n",
       "0.0    301\n",
       "2.0     17\n",
       "4.0      7\n",
       "5.0      7\n",
       "3.0      2\n",
       "Name: count, dtype: int64"
      ]
     },
     "metadata": {},
     "output_type": "display_data"
    },
    {
     "name": "stdout",
     "output_type": "stream",
     "text": [
      "\n",
      "Libellés pour 'mv501':\n",
      "  0: never in union\n",
      "  1: married\n",
      "  2: living with partner\n",
      "  3: widowed\n",
      "  4: divorced\n",
      "  5: no longer living together/separated\n",
      "\n",
      "========================================\n",
      "\n",
      "--- Variable : indice_richesse ---\n"
     ]
    },
    {
     "data": {
      "application/vnd.microsoft.datawrangler.viewer.v0+json": {
       "columns": [
        {
         "name": "indice_richesse",
         "rawType": "float64",
         "type": "float"
        },
        {
         "name": "count",
         "rawType": "int64",
         "type": "integer"
        }
       ],
       "ref": "8ab73ef0-2160-4bc5-9aaf-873e62a0dd1c",
       "rows": [
        [
         "1.0",
         "277"
        ],
        [
         "2.0",
         "196"
        ],
        [
         "3.0",
         "149"
        ],
        [
         "5.0",
         "130"
        ],
        [
         "4.0",
         "128"
        ]
       ],
       "shape": {
        "columns": 1,
        "rows": 5
       }
      },
      "text/plain": [
       "indice_richesse\n",
       "1.0    277\n",
       "2.0    196\n",
       "3.0    149\n",
       "5.0    130\n",
       "4.0    128\n",
       "Name: count, dtype: int64"
      ]
     },
     "metadata": {},
     "output_type": "display_data"
    },
    {
     "name": "stdout",
     "output_type": "stream",
     "text": [
      "\n",
      "Libellés pour 'mv190':\n",
      "  1: poorest\n",
      "  2: poorer\n",
      "  3: middle\n",
      "  4: richer\n",
      "  5: richest\n",
      "\n",
      "========================================\n",
      "\n",
      "--- Variable : travaille_actuellement ---\n"
     ]
    },
    {
     "data": {
      "application/vnd.microsoft.datawrangler.viewer.v0+json": {
       "columns": [
        {
         "name": "travaille_actuellement",
         "rawType": "float64",
         "type": "float"
        },
        {
         "name": "count",
         "rawType": "int64",
         "type": "integer"
        }
       ],
       "ref": "80cb8b67-0e76-4ae4-97cf-9ad222ad9d4f",
       "rows": [
        [
         "1.0",
         "817"
        ],
        [
         "0.0",
         "63"
        ]
       ],
       "shape": {
        "columns": 1,
        "rows": 2
       }
      },
      "text/plain": [
       "travaille_actuellement\n",
       "1.0    817\n",
       "0.0     63\n",
       "Name: count, dtype: int64"
      ]
     },
     "metadata": {},
     "output_type": "display_data"
    },
    {
     "name": "stdout",
     "output_type": "stream",
     "text": [
      "\n",
      "Libellés pour 'mv714':\n",
      "  0: no\n",
      "  1: yes\n",
      "\n",
      "========================================\n",
      "\n",
      "--- Variable : frequence_radio ---\n"
     ]
    },
    {
     "data": {
      "application/vnd.microsoft.datawrangler.viewer.v0+json": {
       "columns": [
        {
         "name": "frequence_radio",
         "rawType": "float64",
         "type": "float"
        },
        {
         "name": "count",
         "rawType": "int64",
         "type": "integer"
        }
       ],
       "ref": "87a77cea-fb20-41ed-917b-a1d14df955bf",
       "rows": [
        [
         "2.0",
         "445"
        ],
        [
         "0.0",
         "259"
        ],
        [
         "1.0",
         "176"
        ]
       ],
       "shape": {
        "columns": 1,
        "rows": 3
       }
      },
      "text/plain": [
       "frequence_radio\n",
       "2.0    445\n",
       "0.0    259\n",
       "1.0    176\n",
       "Name: count, dtype: int64"
      ]
     },
     "metadata": {},
     "output_type": "display_data"
    },
    {
     "name": "stdout",
     "output_type": "stream",
     "text": [
      "\n",
      "Libellés pour 'mv157':\n",
      "  0: not at all\n",
      "  1: less than once a week\n",
      "  2: at least once a week\n",
      "  3: almost every day\n",
      "\n",
      "========================================\n",
      "\n",
      "--- Variable : frequence_tv ---\n"
     ]
    },
    {
     "data": {
      "application/vnd.microsoft.datawrangler.viewer.v0+json": {
       "columns": [
        {
         "name": "frequence_tv",
         "rawType": "float64",
         "type": "float"
        },
        {
         "name": "count",
         "rawType": "int64",
         "type": "integer"
        }
       ],
       "ref": "bdae7562-3bcc-4828-a7f5-2e1161484b74",
       "rows": [
        [
         "0.0",
         "453"
        ],
        [
         "2.0",
         "246"
        ],
        [
         "1.0",
         "181"
        ]
       ],
       "shape": {
        "columns": 1,
        "rows": 3
       }
      },
      "text/plain": [
       "frequence_tv\n",
       "0.0    453\n",
       "2.0    246\n",
       "1.0    181\n",
       "Name: count, dtype: int64"
      ]
     },
     "metadata": {},
     "output_type": "display_data"
    },
    {
     "name": "stdout",
     "output_type": "stream",
     "text": [
      "\n",
      "Libellés pour 'mv158':\n",
      "  0: not at all\n",
      "  1: less than once a week\n",
      "  2: at least once a week\n",
      "  3: almost every day\n",
      "\n",
      "========================================\n",
      "\n",
      "--- Variable : utilise_internet ---\n"
     ]
    },
    {
     "data": {
      "application/vnd.microsoft.datawrangler.viewer.v0+json": {
       "columns": [
        {
         "name": "utilise_internet",
         "rawType": "float64",
         "type": "float"
        },
        {
         "name": "count",
         "rawType": "int64",
         "type": "integer"
        }
       ],
       "ref": "c59a6945-3f2e-4a13-a284-67916d53319d",
       "rows": [
        [
         "0.0",
         "769"
        ],
        [
         "1.0",
         "104"
        ],
        [
         "2.0",
         "7"
        ]
       ],
       "shape": {
        "columns": 1,
        "rows": 3
       }
      },
      "text/plain": [
       "utilise_internet\n",
       "0.0    769\n",
       "1.0    104\n",
       "2.0      7\n",
       "Name: count, dtype: int64"
      ]
     },
     "metadata": {},
     "output_type": "display_data"
    },
    {
     "name": "stdout",
     "output_type": "stream",
     "text": [
      "\n",
      "========================================\n",
      "\n",
      "--- Variable : age_premier_rapport ---\n"
     ]
    },
    {
     "data": {
      "application/vnd.microsoft.datawrangler.viewer.v0+json": {
       "columns": [
        {
         "name": "index",
         "rawType": "object",
         "type": "string"
        },
        {
         "name": "age_premier_rapport",
         "rawType": "float64",
         "type": "float"
        }
       ],
       "ref": "9d79614a-823f-443f-9485-13af20585a95",
       "rows": [
        [
         "count",
         "880.0"
        ],
        [
         "mean",
         "15.255681818181818"
        ],
        [
         "std",
         "7.196215633482823"
        ],
        [
         "min",
         "0.0"
        ],
        [
         "25%",
         "15.0"
        ],
        [
         "50%",
         "18.0"
        ],
        [
         "75%",
         "20.0"
        ],
        [
         "max",
         "30.0"
        ]
       ],
       "shape": {
        "columns": 1,
        "rows": 8
       }
      },
      "text/plain": [
       "count    880.000000\n",
       "mean      15.255682\n",
       "std        7.196216\n",
       "min        0.000000\n",
       "25%       15.000000\n",
       "50%       18.000000\n",
       "75%       20.000000\n",
       "max       30.000000\n",
       "Name: age_premier_rapport, dtype: float64"
      ]
     },
     "metadata": {},
     "output_type": "display_data"
    },
    {
     "name": "stdout",
     "output_type": "stream",
     "text": [
      "\n",
      "Libellés pour 'mv525':\n",
      "  0: not had sex\n",
      "  96: at first union\n",
      "  97: inconsistent\n",
      "  98: don't know\n",
      "\n",
      "========================================\n",
      "\n",
      "--- Variable : nb_partenaires_12mois ---\n"
     ]
    },
    {
     "data": {
      "application/vnd.microsoft.datawrangler.viewer.v0+json": {
       "columns": [
        {
         "name": "index",
         "rawType": "object",
         "type": "string"
        },
        {
         "name": "nb_partenaires_12mois",
         "rawType": "float64",
         "type": "float"
        }
       ],
       "ref": "03315565-612d-454d-8c8e-00d87a82a324",
       "rows": [
        [
         "count",
         "880.0"
        ],
        [
         "mean",
         "0.9522727272727273"
        ],
        [
         "std",
         "0.7374243020833622"
        ],
        [
         "min",
         "0.0"
        ],
        [
         "25%",
         "1.0"
        ],
        [
         "50%",
         "1.0"
        ],
        [
         "75%",
         "1.0"
        ],
        [
         "max",
         "8.0"
        ]
       ],
       "shape": {
        "columns": 1,
        "rows": 8
       }
      },
      "text/plain": [
       "count    880.000000\n",
       "mean       0.952273\n",
       "std        0.737424\n",
       "min        0.000000\n",
       "25%        1.000000\n",
       "50%        1.000000\n",
       "75%        1.000000\n",
       "max        8.000000\n",
       "Name: nb_partenaires_12mois, dtype: float64"
      ]
     },
     "metadata": {},
     "output_type": "display_data"
    },
    {
     "name": "stdout",
     "output_type": "stream",
     "text": [
      "\n",
      "Libellés pour 'mv529':\n",
      "  995: within last 4 weeks\n",
      "  996: before last birth\n",
      "  997: inconsistent\n",
      "  998: don't know\n",
      "\n",
      "========================================\n",
      "\n"
     ]
    }
   ],
   "source": [
    "\n",
    "if 'df' in locals():\n",
    "    # Liste des variables de contrôle à inspecter\n",
    "    variables_controle = [\n",
    "        'statut_marital', \n",
    "        'indice_richesse', \n",
    "        'travaille_actuellement', \n",
    "        'frequence_radio', \n",
    "        'frequence_tv', \n",
    "        'utilise_internet',\n",
    "        'age_premier_rapport',\n",
    "        'nb_partenaires_12mois'\n",
    "    ]\n",
    "    \n",
    "    # Mapping vers les noms de variables originaux pour les libellés\n",
    "    var_mapping = {\n",
    "        'statut_marital': 'mv501',\n",
    "        'indice_richesse': 'mv190',\n",
    "        'travaille_actuellement': 'mv714',\n",
    "        'frequence_radio': 'mv157',\n",
    "        'frequence_tv': 'mv158',\n",
    "        'utilise_internet': 'mv159a',\n",
    "        'age_premier_rapport': 'mv525',\n",
    "        'nb_partenaires_12mois': 'mv529'\n",
    "    }\n",
    "\n",
    "    for var in variables_controle:\n",
    "        print(f\"--- Variable : {var} ---\")\n",
    "        \n",
    "        # Pour les variables numériques continues, on préfère describe()\n",
    "        if var in ['age_premier_rapport', 'nb_partenaires_12mois']:\n",
    "            display(df[var].describe())\n",
    "        else:\n",
    "            display(df[var].value_counts(dropna=False))\n",
    "        \n",
    "        # Afficher les libellés si disponibles\n",
    "        original_var = var_mapping.get(var)\n",
    "        if 'meta' in locals() and original_var and original_var in meta.variable_value_labels:\n",
    "            print(f\"\\nLibellés pour '{original_var}':\")\n",
    "            for value, label in meta.variable_value_labels[original_var].items():\n",
    "                print(f\"  {int(value)}: {label}\")\n",
    "        \n",
    "        print(\"\\n\" + \"=\"*40 + \"\\n\")\n",
    "\n",
    "else:\n",
    "    print(\"Le DataFrame 'df' n'est pas chargé.\")\n"
   ]
  },
  {
   "cell_type": "markdown",
   "id": "3cf556f0",
   "metadata": {},
   "source": [
    "\n",
    "---\n",
    "### 5.3.3. Recodage Groupé des Variables de Contrôle\n",
    "\n",
    "En nous basant sur l'inspection précédente, nous allons maintenant recoder toutes les variables de contrôle en une seule étape pour préparer le jeu de données à l'analyse bivariée et à la modélisation.\n"
   ]
  },
  {
   "cell_type": "code",
   "execution_count": 47,
   "id": "ca52f0ac",
   "metadata": {},
   "outputs": [
    {
     "name": "stdout",
     "output_type": "stream",
     "text": [
      "Les variables de contrôle ont été recodées avec succès.\n"
     ]
    },
    {
     "data": {
      "application/vnd.microsoft.datawrangler.viewer.v0+json": {
       "columns": [
        {
         "name": "index",
         "rawType": "int64",
         "type": "integer"
        },
        {
         "name": "statut_marital_cat",
         "rawType": "object",
         "type": "string"
        },
        {
         "name": "indice_richesse_cat",
         "rawType": "object",
         "type": "string"
        },
        {
         "name": "travaille_actuellement_cat",
         "rawType": "object",
         "type": "string"
        },
        {
         "name": "frequence_radio_cat",
         "rawType": "object",
         "type": "string"
        },
        {
         "name": "frequence_tv_cat",
         "rawType": "object",
         "type": "string"
        },
        {
         "name": "utilise_internet_cat",
         "rawType": "object",
         "type": "string"
        },
        {
         "name": "sexuellement_actif",
         "rawType": "object",
         "type": "string"
        },
        {
         "name": "nb_partenaires_12mois_cat",
         "rawType": "object",
         "type": "string"
        }
       ],
       "ref": "a1cda63c-fb88-4548-a110-ddac81ab9e94",
       "rows": [
        [
         "0",
         "En couple",
         "Pauvre",
         "Oui",
         "Pas du tout",
         "Pas du tout",
         "Non",
         "Oui",
         "1"
        ],
        [
         "1",
         "En couple",
         "Pauvre",
         "Oui",
         "Au moins une fois/semaine",
         "Moins d'une fois/semaine",
         "Non",
         "Oui",
         "1"
        ],
        [
         "2",
         "En couple",
         "Pauvre",
         "Oui",
         "Au moins une fois/semaine",
         "Pas du tout",
         "Non",
         "Oui",
         "2 ou plus"
        ],
        [
         "3",
         "Jamais en couple",
         "Plus pauvre",
         "Oui",
         "Au moins une fois/semaine",
         "Moins d'une fois/semaine",
         "Non",
         "Oui",
         "0"
        ],
        [
         "4",
         "En couple",
         "Plus pauvre",
         "Oui",
         "Pas du tout",
         "Pas du tout",
         "Non",
         "Oui",
         "1"
        ]
       ],
       "shape": {
        "columns": 8,
        "rows": 5
       }
      },
      "text/html": [
       "<div>\n",
       "<style scoped>\n",
       "    .dataframe tbody tr th:only-of-type {\n",
       "        vertical-align: middle;\n",
       "    }\n",
       "\n",
       "    .dataframe tbody tr th {\n",
       "        vertical-align: top;\n",
       "    }\n",
       "\n",
       "    .dataframe thead th {\n",
       "        text-align: right;\n",
       "    }\n",
       "</style>\n",
       "<table border=\"1\" class=\"dataframe\">\n",
       "  <thead>\n",
       "    <tr style=\"text-align: right;\">\n",
       "      <th></th>\n",
       "      <th>statut_marital_cat</th>\n",
       "      <th>indice_richesse_cat</th>\n",
       "      <th>travaille_actuellement_cat</th>\n",
       "      <th>frequence_radio_cat</th>\n",
       "      <th>frequence_tv_cat</th>\n",
       "      <th>utilise_internet_cat</th>\n",
       "      <th>sexuellement_actif</th>\n",
       "      <th>nb_partenaires_12mois_cat</th>\n",
       "    </tr>\n",
       "  </thead>\n",
       "  <tbody>\n",
       "    <tr>\n",
       "      <th>0</th>\n",
       "      <td>En couple</td>\n",
       "      <td>Pauvre</td>\n",
       "      <td>Oui</td>\n",
       "      <td>Pas du tout</td>\n",
       "      <td>Pas du tout</td>\n",
       "      <td>Non</td>\n",
       "      <td>Oui</td>\n",
       "      <td>1</td>\n",
       "    </tr>\n",
       "    <tr>\n",
       "      <th>1</th>\n",
       "      <td>En couple</td>\n",
       "      <td>Pauvre</td>\n",
       "      <td>Oui</td>\n",
       "      <td>Au moins une fois/semaine</td>\n",
       "      <td>Moins d'une fois/semaine</td>\n",
       "      <td>Non</td>\n",
       "      <td>Oui</td>\n",
       "      <td>1</td>\n",
       "    </tr>\n",
       "    <tr>\n",
       "      <th>2</th>\n",
       "      <td>En couple</td>\n",
       "      <td>Pauvre</td>\n",
       "      <td>Oui</td>\n",
       "      <td>Au moins une fois/semaine</td>\n",
       "      <td>Pas du tout</td>\n",
       "      <td>Non</td>\n",
       "      <td>Oui</td>\n",
       "      <td>2 ou plus</td>\n",
       "    </tr>\n",
       "    <tr>\n",
       "      <th>3</th>\n",
       "      <td>Jamais en couple</td>\n",
       "      <td>Plus pauvre</td>\n",
       "      <td>Oui</td>\n",
       "      <td>Au moins une fois/semaine</td>\n",
       "      <td>Moins d'une fois/semaine</td>\n",
       "      <td>Non</td>\n",
       "      <td>Oui</td>\n",
       "      <td>0</td>\n",
       "    </tr>\n",
       "    <tr>\n",
       "      <th>4</th>\n",
       "      <td>En couple</td>\n",
       "      <td>Plus pauvre</td>\n",
       "      <td>Oui</td>\n",
       "      <td>Pas du tout</td>\n",
       "      <td>Pas du tout</td>\n",
       "      <td>Non</td>\n",
       "      <td>Oui</td>\n",
       "      <td>1</td>\n",
       "    </tr>\n",
       "  </tbody>\n",
       "</table>\n",
       "</div>"
      ],
      "text/plain": [
       "  statut_marital_cat indice_richesse_cat travaille_actuellement_cat  \\\n",
       "0          En couple              Pauvre                        Oui   \n",
       "1          En couple              Pauvre                        Oui   \n",
       "2          En couple              Pauvre                        Oui   \n",
       "3   Jamais en couple         Plus pauvre                        Oui   \n",
       "4          En couple         Plus pauvre                        Oui   \n",
       "\n",
       "         frequence_radio_cat          frequence_tv_cat utilise_internet_cat  \\\n",
       "0                Pas du tout               Pas du tout                  Non   \n",
       "1  Au moins une fois/semaine  Moins d'une fois/semaine                  Non   \n",
       "2  Au moins une fois/semaine               Pas du tout                  Non   \n",
       "3  Au moins une fois/semaine  Moins d'une fois/semaine                  Non   \n",
       "4                Pas du tout               Pas du tout                  Non   \n",
       "\n",
       "  sexuellement_actif nb_partenaires_12mois_cat  \n",
       "0                Oui                         1  \n",
       "1                Oui                         1  \n",
       "2                Oui                 2 ou plus  \n",
       "3                Oui                         0  \n",
       "4                Oui                         1  "
      ]
     },
     "metadata": {},
     "output_type": "display_data"
    }
   ],
   "source": [
    "\n",
    "if 'df' in locals():\n",
    "    # 1. statut_marital\n",
    "    mapping_marital = {\n",
    "        0.0: 'Jamais en couple',\n",
    "        1.0: 'En couple',\n",
    "        2.0: 'En couple',\n",
    "        3.0: 'A été en couple',\n",
    "        4.0: 'A été en couple',\n",
    "        5.0: 'A été en couple'\n",
    "    }\n",
    "    df['statut_marital_cat'] = df['statut_marital'].map(mapping_marital)\n",
    "\n",
    "    # 2. indice_richesse\n",
    "    mapping_richesse = {\n",
    "        1.0: 'Plus pauvre',\n",
    "        2.0: 'Pauvre',\n",
    "        3.0: 'Moyen',\n",
    "        4.0: 'Riche',\n",
    "        5.0: 'Plus riche'\n",
    "    }\n",
    "    df['indice_richesse_cat'] = df['indice_richesse'].map(mapping_richesse)\n",
    "\n",
    "    # 3. travaille_actuellement\n",
    "    df['travaille_actuellement_cat'] = df['travaille_actuellement'].map({1.0: 'Oui', 0.0: 'Non'})\n",
    "\n",
    "    # 4. frequence_radio & 5. frequence_tv\n",
    "    mapping_media = {\n",
    "        0.0: 'Pas du tout',\n",
    "        1.0: 'Moins d\\'une fois/semaine',\n",
    "        2.0: 'Au moins une fois/semaine',\n",
    "        3.0: 'Au moins une fois/semaine'\n",
    "    }\n",
    "    df['frequence_radio_cat'] = df['frequence_radio'].map(mapping_media)\n",
    "    df['frequence_tv_cat'] = df['frequence_tv'].map(mapping_media)\n",
    "\n",
    "    # 6. utilise_internet\n",
    "    df['utilise_internet_cat'] = df['utilise_internet'].map({1.0: 'Oui', 2.0: 'Oui', 0.0: 'Non'})\n",
    "\n",
    "    # 7. age_premier_rapport -> activité sexuelle\n",
    "    df['sexuellement_actif'] = np.where(df['age_premier_rapport'] > 0, 'Oui', 'Non')\n",
    "\n",
    "    # 8. nb_partenaires_12mois\n",
    "    def categorize_partners(n):\n",
    "        if n == 0:\n",
    "            return '0'\n",
    "        elif n == 1:\n",
    "            return '1'\n",
    "        else:\n",
    "            return '2 ou plus'\n",
    "    df['nb_partenaires_12mois_cat'] = df['nb_partenaires_12mois'].apply(categorize_partners)\n",
    "\n",
    "    print(\"Les variables de contrôle ont été recodées avec succès.\")\n",
    "    \n",
    "    # Afficher un aperçu des nouvelles colonnes\n",
    "    new_cols = [\n",
    "        'statut_marital_cat', 'indice_richesse_cat', 'travaille_actuellement_cat',\n",
    "        'frequence_radio_cat', 'frequence_tv_cat', 'utilise_internet_cat',\n",
    "        'sexuellement_actif', 'nb_partenaires_12mois_cat'\n",
    "    ]\n",
    "    display(df[new_cols].head())\n",
    "\n",
    "else:\n",
    "    print(\"Le DataFrame 'df' n'est pas chargé.\")\n"
   ]
  }
 ],
 "metadata": {
  "kernelspec": {
   "display_name": ".venv (3.11.2)",
   "language": "python",
   "name": "python3"
  },
  "language_info": {
   "codemirror_mode": {
    "name": "ipython",
    "version": 3
   },
   "file_extension": ".py",
   "mimetype": "text/x-python",
   "name": "python",
   "nbconvert_exporter": "python",
   "pygments_lexer": "ipython3",
   "version": "3.11.2"
  }
 },
 "nbformat": 4,
 "nbformat_minor": 5
}
